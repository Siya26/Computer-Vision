{
 "cells": [
  {
   "cell_type": "markdown",
   "metadata": {},
   "source": [
    "# 2021101062\n",
    "# Siya Puttagunta\n",
    "# Assignment 2"
   ]
  },
  {
   "cell_type": "markdown",
   "metadata": {},
   "source": [
    "## 1"
   ]
  },
  {
   "cell_type": "markdown",
   "metadata": {},
   "source": [
    "Imports"
   ]
  },
  {
   "cell_type": "code",
   "execution_count": 2,
   "metadata": {},
   "outputs": [],
   "source": [
    "import numpy as np\n",
    "import cv2\n",
    "from sklearn.cluster import KMeans\n",
    "from sklearn.svm import LinearSVC\n",
    "from sklearn.metrics import accuracy_score\n",
    "from torchvision import datasets\n",
    "import matplotlib.pyplot as plt"
   ]
  },
  {
   "cell_type": "markdown",
   "metadata": {},
   "source": [
    "Loading Data"
   ]
  },
  {
   "cell_type": "code",
   "execution_count": 41,
   "metadata": {},
   "outputs": [],
   "source": [
    "mnist_train = datasets.MNIST(root='./data', train=True, download=True)\n",
    "mnist_test = datasets.MNIST(root='./data', train=False, download=True)"
   ]
  },
  {
   "cell_type": "markdown",
   "metadata": {},
   "source": [
    "Display Images"
   ]
  },
  {
   "cell_type": "code",
   "execution_count": 42,
   "metadata": {},
   "outputs": [
    {
     "data": {
      "image/png": "[encoded data removed]",
      "text/plain": [
       "<Figure size 800x800 with 9 Axes>"
      ]
     },
     "metadata": {},
     "output_type": "display_data"
    }
   ],
   "source": [
    "num_images = 9\n",
    "fig, axes = plt.subplots(3, 3, figsize=(8, 8))\n",
    "fig.suptitle('MNIST Sample Images')\n",
    "\n",
    "for i, ax in enumerate(axes.flat):\n",
    "    image, label = mnist_train[i]\n",
    "    ax.imshow(image, cmap='gray')\n",
    "    ax.set_title(f'Label: {label}')\n",
    "    ax.axis('off')\n",
    "\n",
    "plt.tight_layout()\n",
    "plt.show()"
   ]
  },
  {
   "cell_type": "markdown",
   "metadata": {},
   "source": [
    "Splitting Data"
   ]
  },
  {
   "cell_type": "code",
   "execution_count": 43,
   "metadata": {},
   "outputs": [],
   "source": [
    "X_train, y_train = mnist_train.data.numpy(), mnist_train.targets.numpy()\n",
    "X_test, y_test = mnist_test.data.numpy(), mnist_test.targets.numpy()"
   ]
  },
  {
   "cell_type": "markdown",
   "metadata": {},
   "source": [
    "### 1.1"
   ]
  },
  {
   "cell_type": "code",
   "execution_count": 44,
   "metadata": {},
   "outputs": [],
   "source": [
    "def sift_features(image):\n",
    "    sift = cv2.SIFT_create()\n",
    "    keypoints, descriptors = sift.detectAndCompute(image, None)\n",
    "    return descriptors\n",
    "\n",
    "def compute_visual_words(X_train, n_clusters=100):\n",
    "    sift = cv2.SIFT_create()\n",
    "    descriptors_list = []\n",
    "\n",
    "    for image in X_train:\n",
    "        kp, des = sift.detectAndCompute(image, None)\n",
    "        if des is not None:\n",
    "            descriptors_list.append(des)\n",
    "\n",
    "    descriptors = np.vstack(descriptors_list)\n",
    "    \n",
    "    kmeans = KMeans(n_clusters=n_clusters, random_state=42)\n",
    "    kmeans.fit(descriptors)\n",
    "    visual_words = kmeans.cluster_centers_\n",
    "    \n",
    "    return visual_words\n",
    "\n",
    "def image_histogram(image, visual_words, n_clusters=100):\n",
    "    sift = cv2.SIFT_create()\n",
    "    kp, des = sift.detectAndCompute(image, None)\n",
    "\n",
    "    if des is None:\n",
    "        return np.zeros(n_clusters)\n",
    "    else:\n",
    "        distances = np.linalg.norm(des[:, np.newaxis, :] - visual_words[np.newaxis, :, :], axis=2)\n",
    "        histogram, _ = np.histogram(np.argmin(distances, axis=1), bins=n_clusters, range=(0, n_clusters))\n",
    "        return histogram / np.sum(histogram)"
   ]
  },
  {
   "cell_type": "markdown",
   "metadata": {},
   "source": [
    "Computing visual words and histograms for train set"
   ]
  },
  {
   "cell_type": "code",
   "execution_count": 45,
   "metadata": {},
   "outputs": [],
   "source": [
    "visual_words = compute_visual_words(X_train)\n",
    "\n",
    "X_train_hist = np.array([image_histogram(image, visual_words) for image in X_train])"
   ]
  },
  {
   "cell_type": "markdown",
   "metadata": {},
   "source": [
    "Training linear SVM model"
   ]
  },
  {
   "cell_type": "code",
   "execution_count": 46,
   "metadata": {},
   "outputs": [
    {
     "data": {
      "text/html": [
       "<style>#sk-container-id-1 {color: black;background-color: white;}#sk-container-id-1 pre{padding: 0;}#sk-container-id-1 div.sk-toggleable {background-color: white;}#sk-container-id-1 label.sk-toggleable__label {cursor: pointer;display: block;width: 100%;margin-bottom: 0;padding: 0.3em;box-sizing: border-box;text-align: center;}#sk-container-id-1 label.sk-toggleable__label-arrow:before {content: \"▸\";float: left;margin-right: 0.25em;color: #696969;}#sk-container-id-1 label.sk-toggleable__label-arrow:hover:before {color: black;}#sk-container-id-1 div.sk-estimator:hover label.sk-toggleable__label-arrow:before {color: black;}#sk-container-id-1 div.sk-toggleable__content {max-height: 0;max-width: 0;overflow: hidden;text-align: left;background-color: #f0f8ff;}#sk-container-id-1 div.sk-toggleable__content pre {margin: 0.2em;color: black;border-radius: 0.25em;background-color: #f0f8ff;}#sk-container-id-1 input.sk-toggleable__control:checked~div.sk-toggleable__content {max-height: 200px;max-width: 100%;overflow: auto;}#sk-container-id-1 input.sk-toggleable__control:checked~label.sk-toggleable__label-arrow:before {content: \"▾\";}#sk-container-id-1 div.sk-estimator input.sk-toggleable__control:checked~label.sk-toggleable__label {background-color: #d4ebff;}#sk-container-id-1 div.sk-label input.sk-toggleable__control:checked~label.sk-toggleable__label {background-color: #d4ebff;}#sk-container-id-1 input.sk-hidden--visually {border: 0;clip: rect(1px 1px 1px 1px);clip: rect(1px, 1px, 1px, 1px);height: 1px;margin: -1px;overflow: hidden;padding: 0;position: absolute;width: 1px;}#sk-container-id-1 div.sk-estimator {font-family: monospace;background-color: #f0f8ff;border: 1px dotted black;border-radius: 0.25em;box-sizing: border-box;margin-bottom: 0.5em;}#sk-container-id-1 div.sk-estimator:hover {background-color: #d4ebff;}#sk-container-id-1 div.sk-parallel-item::after {content: \"\";width: 100%;border-bottom: 1px solid gray;flex-grow: 1;}#sk-container-id-1 div.sk-label:hover label.sk-toggleable__label {background-color: #d4ebff;}#sk-container-id-1 div.sk-serial::before {content: \"\";position: absolute;border-left: 1px solid gray;box-sizing: border-box;top: 0;bottom: 0;left: 50%;z-index: 0;}#sk-container-id-1 div.sk-serial {display: flex;flex-direction: column;align-items: center;background-color: white;padding-right: 0.2em;padding-left: 0.2em;position: relative;}#sk-container-id-1 div.sk-item {position: relative;z-index: 1;}#sk-container-id-1 div.sk-parallel {display: flex;align-items: stretch;justify-content: center;background-color: white;position: relative;}#sk-container-id-1 div.sk-item::before, #sk-container-id-1 div.sk-parallel-item::before {content: \"\";position: absolute;border-left: 1px solid gray;box-sizing: border-box;top: 0;bottom: 0;left: 50%;z-index: -1;}#sk-container-id-1 div.sk-parallel-item {display: flex;flex-direction: column;z-index: 1;position: relative;background-color: white;}#sk-container-id-1 div.sk-parallel-item:first-child::after {align-self: flex-end;width: 50%;}#sk-container-id-1 div.sk-parallel-item:last-child::after {align-self: flex-start;width: 50%;}#sk-container-id-1 div.sk-parallel-item:only-child::after {width: 0;}#sk-container-id-1 div.sk-dashed-wrapped {border: 1px dashed gray;margin: 0 0.4em 0.5em 0.4em;box-sizing: border-box;padding-bottom: 0.4em;background-color: white;}#sk-container-id-1 div.sk-label label {font-family: monospace;font-weight: bold;display: inline-block;line-height: 1.2em;}#sk-container-id-1 div.sk-label-container {text-align: center;}#sk-container-id-1 div.sk-container {/* jupyter's `normalize.less` sets `[hidden] { display: none; }` but bootstrap.min.css set `[hidden] { display: none !important; }` so we also need the `!important` here to be able to override the default hidden behavior on the sphinx rendered scikit-learn.org. See: https://github.com/scikit-learn/scikit-learn/issues/21755 */display: inline-block !important;position: relative;}#sk-container-id-1 div.sk-text-repr-fallback {display: none;}</style><div id=\"sk-container-id-1\" class=\"sk-top-container\"><div class=\"sk-text-repr-fallback\"><pre>LinearSVC(random_state=42)</pre><b>In a Jupyter environment, please rerun this cell to show the HTML representation or trust the notebook. <br />On GitHub, the HTML representation is unable to render, please try loading this page with nbviewer.org.</b></div><div class=\"sk-container\" hidden><div class=\"sk-item\"><div class=\"sk-estimator sk-toggleable\"><input class=\"sk-toggleable__control sk-hidden--visually\" id=\"sk-estimator-id-1\" type=\"checkbox\" checked><label for=\"sk-estimator-id-1\" class=\"sk-toggleable__label sk-toggleable__label-arrow\">LinearSVC</label><div class=\"sk-toggleable__content\"><pre>LinearSVC(random_state=42)</pre></div></div></div></div></div>"
      ],
      "text/plain": [
       "LinearSVC(random_state=42)"
      ]
     },
     "execution_count": 46,
     "metadata": {},
     "output_type": "execute_result"
    }
   ],
   "source": [
    "svm_model = LinearSVC(random_state=42)\n",
    "svm_model.fit(X_train_hist, y_train)"
   ]
  },
  {
   "cell_type": "markdown",
   "metadata": {},
   "source": [
    "Evaluation on test set"
   ]
  },
  {
   "cell_type": "code",
   "execution_count": 47,
   "metadata": {},
   "outputs": [
    {
     "name": "stdout",
     "output_type": "stream",
     "text": [
      "Accuracy: 73.05 %\n"
     ]
    }
   ],
   "source": [
    "X_test_hist = np.array([image_histogram(image, visual_words) for image in X_test])\n",
    "predictions = svm_model.predict(X_test_hist)\n",
    "accuracy = accuracy_score(y_test, predictions)\n",
    "\n",
    "print(\"Accuracy:\", accuracy * 100, \"%\")"
   ]
  },
  {
   "cell_type": "markdown",
   "metadata": {},
   "source": [
    "### 1.2"
   ]
  },
  {
   "cell_type": "markdown",
   "metadata": {},
   "source": [
    "Accuracy vs Number of Clusters"
   ]
  },
  {
   "cell_type": "code",
   "execution_count": 48,
   "metadata": {},
   "outputs": [
    {
     "name": "stdout",
     "output_type": "stream",
     "text": [
      "Accuracy for 10 clusters: 37.230000000000004 %\n",
      "Accuracy for 20 clusters: 47.61 %\n",
      "Accuracy for 50 clusters: 63.68000000000001 %\n",
      "Accuracy for 100 clusters: 73.03 %\n",
      "Accuracy for 200 clusters: 78.42 %\n",
      "Accuracy for 500 clusters: 82.89999999999999 %\n"
     ]
    }
   ],
   "source": [
    "cluster_values = [10, 20, 50, 100, 200, 500]\n",
    "accuracies = []\n",
    "\n",
    "for n_clusters in cluster_values:\n",
    "    visual_words = compute_visual_words(X_train, n_clusters=n_clusters)\n",
    "    X_train_hist = np.array([image_histogram(image, visual_words, n_clusters=n_clusters) for image in X_train])\n",
    "\n",
    "    svm_model = LinearSVC(random_state=42)\n",
    "    svm_model.fit(X_train_hist, y_train)\n",
    "\n",
    "    X_test_hist = np.array([image_histogram(image, visual_words, n_clusters=n_clusters) for image in X_test])\n",
    "    predictions = svm_model.predict(X_test_hist)\n",
    "    accuracy = accuracy_score(y_test, predictions)\n",
    "    accuracies.append(accuracy * 100)\n",
    "\n",
    "for i in range(len(cluster_values)):\n",
    "    print(\"Accuracy for\", cluster_values[i], \"clusters:\", accuracies[i], \"%\")"
   ]
  },
  {
   "cell_type": "markdown",
   "metadata": {},
   "source": [
    "Plotting the results"
   ]
  },
  {
   "cell_type": "code",
   "execution_count": 49,
   "metadata": {},
   "outputs": [
    {
     "data": {
      "image/png": "[encoded data removed]",
      "text/plain": [
       "<Figure size 1000x600 with 1 Axes>"
      ]
     },
     "metadata": {},
     "output_type": "display_data"
    }
   ],
   "source": [
    "plt.figure(figsize=(10, 6))\n",
    "plt.plot(cluster_values, accuracies, marker='o')\n",
    "plt.xscale('log')\n",
    "plt.xlabel('Number of Clusters')\n",
    "plt.ylabel('Classification Accuracy (%)')\n",
    "plt.title('Classification Accuracy vs. Number of Clusters')\n",
    "plt.grid(True)\n",
    "plt.show()"
   ]
  },
  {
   "cell_type": "markdown",
   "metadata": {},
   "source": [
    "- Highest accuracy achieved is for 500 clusters which is 82.89%.\n",
    "- As the number of clusters increases, the classification accuracy increases.\n",
    "- The increase in accuracy is significant in the early stages."
   ]
  },
  {
   "cell_type": "markdown",
   "metadata": {},
   "source": [
    "### 1.3"
   ]
  },
  {
   "cell_type": "markdown",
   "metadata": {},
   "source": [
    "Hyperparameter tuning for various sift_nfeatures and svm_C"
   ]
  },
  {
   "cell_type": "code",
   "execution_count": 50,
   "metadata": {},
   "outputs": [],
   "source": [
    "hyperparameter_settings = [\n",
    "    {'sift_nfeatures': 0, 'svm_C': 1.0, 'sift_edgeThreshold': 10},  \n",
    "    {'sift_nfeatures': 500, 'svm_C': 1.0, 'sift_edgeThreshold': 10},  \n",
    "    {'sift_nfeatures': 0, 'svm_C': 0.1, 'sift_edgeThreshold': 5},  \n",
    "    {'sift_nfeatures': 500, 'svm_C': 0.1, 'sift_edgeThreshold': 5},  \n",
    "    {'sift_nfeatures': 100, 'svm_C': 10.0, 'sift_edgeThreshold': 10},  \n",
    "    {'sift_nfeatures': 0, 'svm_C': 10.0, 'sift_edgeThreshold': 10},  \n",
    "]"
   ]
  },
  {
   "cell_type": "markdown",
   "metadata": {},
   "source": [
    "Computing Accuracy for 100 Clusters"
   ]
  },
  {
   "cell_type": "code",
   "execution_count": 51,
   "metadata": {},
   "outputs": [
    {
     "name": "stdout",
     "output_type": "stream",
     "text": [
      "Accuracy for {'sift_nfeatures': 0, 'svm_C': 1.0, 'sift_edgeThreshold': 10} : 73.02 %\n",
      "Accuracy for {'sift_nfeatures': 500, 'svm_C': 1.0, 'sift_edgeThreshold': 10} : 73.07000000000001 %\n",
      "Accuracy for {'sift_nfeatures': 0, 'svm_C': 0.1, 'sift_edgeThreshold': 5} : 72.23 %\n",
      "Accuracy for {'sift_nfeatures': 500, 'svm_C': 0.1, 'sift_edgeThreshold': 5} : 72.2 %\n",
      "Accuracy for {'sift_nfeatures': 100, 'svm_C': 10.0, 'sift_edgeThreshold': 10} : 73.08 %\n",
      "Accuracy for {'sift_nfeatures': 0, 'svm_C': 10.0, 'sift_edgeThreshold': 10} : 73.11 %\n"
     ]
    }
   ],
   "source": [
    "accuracies = []\n",
    "\n",
    "for params in hyperparameter_settings:\n",
    "    visual_words = compute_visual_words(X_train, n_clusters=100) \n",
    "    \n",
    "    sift_nfeatures = params['sift_nfeatures']\n",
    "    sift_edgeThreshold = params.get('sift_edgeThreshold', 10)  \n",
    "    \n",
    "    if sift_nfeatures > 0:\n",
    "        cv2.setNumThreads(0)  \n",
    "        sift = cv2.SIFT_create(nfeatures=sift_nfeatures, edgeThreshold=sift_edgeThreshold) \n",
    "    else:\n",
    "        sift = cv2.SIFT_create(edgeThreshold=sift_edgeThreshold) \n",
    "\n",
    "    svm_C = params['svm_C']\n",
    "    svm_model = LinearSVC(C=svm_C, random_state=42)\n",
    "    \n",
    "    X_train_hist = np.array([image_histogram(image, visual_words) for image in X_train])\n",
    "    svm_model.fit(X_train_hist, y_train)\n",
    "\n",
    "    X_test_hist = np.array([image_histogram(image, visual_words) for image in X_test])\n",
    "    predictions = svm_model.predict(X_test_hist)\n",
    "    accuracy = accuracy_score(y_test, predictions)\n",
    "    accuracies.append(accuracy * 100.0)\n",
    "\n",
    "for i in range(len(hyperparameter_settings)):\n",
    "    print(\"Accuracy for\", hyperparameter_settings[i], \":\", accuracies[i], \"%\")"
   ]
  },
  {
   "cell_type": "markdown",
   "metadata": {},
   "source": [
    "PLotting the results"
   ]
  },
  {
   "cell_type": "code",
   "execution_count": 52,
   "metadata": {},
   "outputs": [
    {
     "data": {
      "image/png": "[encoded data removed]",
      "text/plain": [
       "<Figure size 1200x600 with 1 Axes>"
      ]
     },
     "metadata": {},
     "output_type": "display_data"
    }
   ],
   "source": [
    "labels = [\n",
    "    f\"n_f = {params['sift_nfeatures']}, C = {params['svm_C']}, e_T = {params['sift_edgeThreshold']}\"\n",
    "    for params in hyperparameter_settings\n",
    "]\n",
    "\n",
    "plt.figure(figsize=(12, 6))\n",
    "plt.plot(range(1, 7), accuracies, marker='o')\n",
    "plt.xlabel('Hyperparameter Setting')\n",
    "plt.ylabel('Classification Accuracy (%)')\n",
    "plt.title('Classification Accuracy vs. Hyperparameter Settings')\n",
    "plt.xticks(range(1, 7), labels, rotation=45, ha='right')\n",
    "plt.grid(True)\n",
    "plt.tight_layout()\n",
    "plt.show()"
   ]
  },
  {
   "cell_type": "markdown",
   "metadata": {},
   "source": [
    "- Accuracy remains almost same for all hyperparameter configurations (72-73%)."
   ]
  },
  {
   "cell_type": "markdown",
   "metadata": {},
   "source": [
    "## 2"
   ]
  },
  {
   "cell_type": "markdown",
   "metadata": {},
   "source": [
    "Imports"
   ]
  },
  {
   "cell_type": "code",
   "execution_count": 3,
   "metadata": {},
   "outputs": [],
   "source": [
    "import torch\n",
    "import torch.nn as nn\n",
    "import torch.optim as optim\n",
    "import torchvision\n",
    "import torchvision.transforms as transforms\n",
    "import wandb"
   ]
  },
  {
   "cell_type": "markdown",
   "metadata": {},
   "source": [
    "### 2.1"
   ]
  },
  {
   "cell_type": "markdown",
   "metadata": {},
   "source": [
    "Data Module"
   ]
  },
  {
   "cell_type": "code",
   "execution_count": 4,
   "metadata": {},
   "outputs": [],
   "source": [
    "class DigitDataset(torch.utils.data.Dataset):\n",
    "    def __init__(self, train):\n",
    "        self.transform = transforms.Compose([\n",
    "            transforms.ToTensor(),\n",
    "            transforms.Normalize((0.5,), (0.5,))\n",
    "        ])\n",
    "        self.dataset = torchvision.datasets.MNIST(root='./data', train=train, download=True, transform=self.transform)\n",
    "\n",
    "    def __len__(self):\n",
    "        return len(self.dataset)\n",
    "\n",
    "    def __getitem__(self, idx):\n",
    "        return self.dataset[idx]"
   ]
  },
  {
   "cell_type": "markdown",
   "metadata": {},
   "source": [
    "Model Module"
   ]
  },
  {
   "cell_type": "code",
   "execution_count": 5,
   "metadata": {},
   "outputs": [],
   "source": [
    "class LeNet(nn.Module):\n",
    "    def __init__(self):\n",
    "        super(LeNet, self).__init__()\n",
    "        self.conv1 = nn.Conv2d(1, 6, kernel_size=5)\n",
    "        self.conv2 = nn.Conv2d(6, 16, kernel_size=5)\n",
    "        self.fc1 = nn.Linear(16*4*4, 120)\n",
    "        self.fc2 = nn.Linear(120, 84)\n",
    "        self.fc3 = nn.Linear(84, 10)\n",
    "\n",
    "    def forward(self, x):\n",
    "        x = torch.relu(self.conv1(x))\n",
    "        x = torch.max_pool2d(x, kernel_size=2, stride=2)\n",
    "        x = torch.relu(self.conv2(x))\n",
    "        x = torch.max_pool2d(x, kernel_size=2, stride=2)\n",
    "        x = torch.flatten(x, 1)\n",
    "        x = torch.relu(self.fc1(x))\n",
    "        x = torch.relu(self.fc2(x))\n",
    "        x = self.fc3(x)\n",
    "        return x"
   ]
  },
  {
   "cell_type": "markdown",
   "metadata": {},
   "source": [
    "Train Function"
   ]
  },
  {
   "cell_type": "code",
   "execution_count": 6,
   "metadata": {},
   "outputs": [],
   "source": [
    "def train(model, train_loader, optimizer, criterion):\n",
    "    model.train()\n",
    "    running_loss = 0.0\n",
    "    correct = 0\n",
    "    total = 0\n",
    "    \n",
    "    for inputs, labels in train_loader:\n",
    "        inputs, labels = inputs, labels\n",
    "        optimizer.zero_grad()\n",
    "        outputs = model(inputs)\n",
    "        \n",
    "        loss = criterion(outputs, labels)\n",
    "        loss.backward()\n",
    "        optimizer.step()\n",
    "\n",
    "        running_loss += loss.item()\n",
    "        _, predicted = outputs.max(1)\n",
    "        total += labels.size(0)\n",
    "        correct += predicted.eq(labels).sum().item()\n",
    "\n",
    "    train_loss = running_loss / len(train_loader)\n",
    "    train_accuracy = 100. * correct / total\n",
    "\n",
    "    return train_loss, train_accuracy"
   ]
  },
  {
   "cell_type": "markdown",
   "metadata": {},
   "source": [
    "Test Function"
   ]
  },
  {
   "cell_type": "code",
   "execution_count": 7,
   "metadata": {},
   "outputs": [],
   "source": [
    "def test(model, test_loader, criterion):\n",
    "    model.eval()\n",
    "    running_loss = 0.0\n",
    "    correct = 0\n",
    "    total = 0\n",
    "\n",
    "    with torch.no_grad():\n",
    "        for inputs, labels in test_loader:\n",
    "            inputs, labels = inputs, labels\n",
    "            outputs = model(inputs)\n",
    "\n",
    "            loss = criterion(outputs, labels)\n",
    "            running_loss += loss.item()\n",
    "\n",
    "            _, predicted = outputs.max(1)\n",
    "            total += labels.size(0)\n",
    "            correct += predicted.eq(labels).sum().item()\n",
    "\n",
    "    test_loss = running_loss / len(test_loader)\n",
    "    test_accuracy = 100. * correct / total\n",
    "    \n",
    "    return test_loss, test_accuracy"
   ]
  },
  {
   "cell_type": "markdown",
   "metadata": {},
   "source": [
    "Setting hyperparameters and loading data"
   ]
  },
  {
   "cell_type": "code",
   "execution_count": 8,
   "metadata": {},
   "outputs": [],
   "source": [
    "torch.manual_seed(42)\n",
    "\n",
    "lr = 0.001\n",
    "epochs = 10\n",
    "batch_size = 64\n",
    "\n",
    "train_dataset = DigitDataset(train=True)\n",
    "test_dataset = DigitDataset(train=False)\n",
    "train_loader = torch.utils.data.DataLoader(train_dataset, batch_size=batch_size, shuffle=True)\n",
    "test_loader = torch.utils.data.DataLoader(test_dataset, batch_size=batch_size, shuffle=False)"
   ]
  },
  {
   "cell_type": "markdown",
   "metadata": {},
   "source": [
    "Number of training and testing samples"
   ]
  },
  {
   "cell_type": "code",
   "execution_count": 59,
   "metadata": {},
   "outputs": [
    {
     "name": "stdout",
     "output_type": "stream",
     "text": [
      "Training samples: 60000\n",
      "Testing samples: 10000\n"
     ]
    }
   ],
   "source": [
    "n_train = len(train_dataset)\n",
    "n_test = len(test_dataset)\n",
    "\n",
    "print(f\"Training samples: {n_train}\")\n",
    "print(f\"Testing samples: {n_test}\")"
   ]
  },
  {
   "cell_type": "markdown",
   "metadata": {},
   "source": [
    "Accuracy of train and test samples"
   ]
  },
  {
   "cell_type": "code",
   "execution_count": 60,
   "metadata": {},
   "outputs": [
    {
     "data": {
      "text/html": [
       "Changes to your `wandb` environment variables will be ignored because your `wandb` session has already started. For more information on how to modify your settings with `wandb.init()` arguments, please refer to <a href='https://wandb.me/wandb-init' target=\"_blank\">the W&B docs</a>."
      ],
      "text/plain": [
       "<IPython.core.display.HTML object>"
      ]
     },
     "metadata": {},
     "output_type": "display_data"
    },
    {
     "name": "stderr",
     "output_type": "stream",
     "text": [
      "\u001b[34m\u001b[1mwandb\u001b[0m: \u001b[33mWARNING\u001b[0m Ignored wandb.init() arg project when running a sweep.\n"
     ]
    },
    {
     "data": {
      "text/html": [
       "wandb version 0.16.4 is available!  To upgrade, please run:\n",
       " $ pip install wandb --upgrade"
      ],
      "text/plain": [
       "<IPython.core.display.HTML object>"
      ]
     },
     "metadata": {},
     "output_type": "display_data"
    },
    {
     "data": {
      "text/html": [
       "Tracking run with wandb version 0.16.3"
      ],
      "text/plain": [
       "<IPython.core.display.HTML object>"
      ]
     },
     "metadata": {},
     "output_type": "display_data"
    },
    {
     "data": {
      "text/html": [
       "Run data is saved locally in <code>/home/siya/UGS24/CV/ass2/wandb/run-20240308_192529-wri384yj</code>"
      ],
      "text/plain": [
       "<IPython.core.display.HTML object>"
      ]
     },
     "metadata": {},
     "output_type": "display_data"
    },
    {
     "data": {
      "text/html": [
       "Syncing run <strong><a href='https://wandb.ai/siya26/digit-recognition/runs/wri384yj' target=\"_blank\">sleek-sweep-8</a></strong> to <a href='https://wandb.ai/siya26/digit-recognition' target=\"_blank\">Weights & Biases</a> (<a href='https://wandb.me/run' target=\"_blank\">docs</a>)<br/>Sweep page: <a href='https://wandb.ai/siya26/digit-recognition/sweeps/tvhb6ves' target=\"_blank\">https://wandb.ai/siya26/digit-recognition/sweeps/tvhb6ves</a>"
      ],
      "text/plain": [
       "<IPython.core.display.HTML object>"
      ]
     },
     "metadata": {},
     "output_type": "display_data"
    },
    {
     "data": {
      "text/html": [
       " View project at <a href='https://wandb.ai/siya26/digit-recognition' target=\"_blank\">https://wandb.ai/siya26/digit-recognition</a>"
      ],
      "text/plain": [
       "<IPython.core.display.HTML object>"
      ]
     },
     "metadata": {},
     "output_type": "display_data"
    },
    {
     "data": {
      "text/html": [
       " View sweep at <a href='https://wandb.ai/siya26/digit-recognition/sweeps/tvhb6ves' target=\"_blank\">https://wandb.ai/siya26/digit-recognition/sweeps/tvhb6ves</a>"
      ],
      "text/plain": [
       "<IPython.core.display.HTML object>"
      ]
     },
     "metadata": {},
     "output_type": "display_data"
    },
    {
     "data": {
      "text/html": [
       " View run at <a href='https://wandb.ai/siya26/digit-recognition/runs/wri384yj' target=\"_blank\">https://wandb.ai/siya26/digit-recognition/runs/wri384yj</a>"
      ],
      "text/plain": [
       "<IPython.core.display.HTML object>"
      ]
     },
     "metadata": {},
     "output_type": "display_data"
    },
    {
     "name": "stdout",
     "output_type": "stream",
     "text": [
      "Epoch 1/10, Train Loss: 0.2552, Train Accuracy: 91.95%, Test Loss: 0.0708, Test Accuracy: 97.59%\n",
      "Epoch 2/10, Train Loss: 0.0691, Train Accuracy: 97.83%, Test Loss: 0.0442, Test Accuracy: 98.42%\n",
      "Epoch 3/10, Train Loss: 0.0507, Train Accuracy: 98.45%, Test Loss: 0.0514, Test Accuracy: 98.44%\n",
      "Epoch 4/10, Train Loss: 0.0394, Train Accuracy: 98.83%, Test Loss: 0.0405, Test Accuracy: 98.67%\n",
      "Epoch 5/10, Train Loss: 0.0327, Train Accuracy: 98.98%, Test Loss: 0.0330, Test Accuracy: 98.88%\n",
      "Epoch 6/10, Train Loss: 0.0266, Train Accuracy: 99.14%, Test Loss: 0.0341, Test Accuracy: 98.83%\n",
      "Epoch 7/10, Train Loss: 0.0250, Train Accuracy: 99.18%, Test Loss: 0.0342, Test Accuracy: 98.91%\n",
      "Epoch 8/10, Train Loss: 0.0206, Train Accuracy: 99.29%, Test Loss: 0.0387, Test Accuracy: 98.82%\n",
      "Epoch 9/10, Train Loss: 0.0180, Train Accuracy: 99.42%, Test Loss: 0.0397, Test Accuracy: 98.80%\n",
      "Epoch 10/10, Train Loss: 0.0152, Train Accuracy: 99.50%, Test Loss: 0.0359, Test Accuracy: 98.85%\n"
     ]
    }
   ],
   "source": [
    "wandb.init(project='digit-recognition')\n",
    "\n",
    "model = LeNet()\n",
    "criterion = nn.CrossEntropyLoss()\n",
    "optimizer = optim.Adam(model.parameters(), lr=lr)\n",
    "\n",
    "train_loss_list = []\n",
    "train_accuracy_list = []\n",
    "\n",
    "test_loss_list = []\n",
    "test_accuracy_list = []\n",
    "\n",
    "for epoch in range(epochs):\n",
    "    train_loss, train_accuracy = train(model, train_loader, optimizer, criterion)\n",
    "    test_loss, test_accuracy = test(model, test_loader, criterion)\n",
    "\n",
    "    train_loss_list.append(train_loss)\n",
    "    train_accuracy_list.append(train_accuracy)\n",
    "    test_loss_list.append(test_loss)\n",
    "    test_accuracy_list.append(test_accuracy)\n",
    "\n",
    "    wandb.log({\n",
    "        'train_loss': train_loss,\n",
    "        'train_accuracy': train_accuracy,\n",
    "        'test_loss': test_loss,\n",
    "        'test_accuracy': test_accuracy\n",
    "    })\n",
    "\n",
    "    print(f'Epoch {epoch+1}/{epochs}, Train Loss: {train_loss:.4f}, Train Accuracy: {train_accuracy:.2f}%, Test Loss: {test_loss:.4f}, Test Accuracy: {test_accuracy:.2f}%')"
   ]
  },
  {
   "cell_type": "markdown",
   "metadata": {},
   "source": [
    "Plotting the results"
   ]
  },
  {
   "cell_type": "code",
   "execution_count": 61,
   "metadata": {},
   "outputs": [
    {
     "data": {
      "image/png": "[encoded data removed]",
      "text/plain": [
       "<Figure size 1000x600 with 1 Axes>"
      ]
     },
     "metadata": {},
     "output_type": "display_data"
    },
    {
     "data": {
      "image/png": "[encoded data removed]",
      "text/plain": [
       "<Figure size 1000x600 with 1 Axes>"
      ]
     },
     "metadata": {},
     "output_type": "display_data"
    }
   ],
   "source": [
    "# Train\n",
    "plt.figure(figsize=(10, 6))\n",
    "plt.plot(train_loss_list, label='Train Loss')\n",
    "plt.plot(train_accuracy_list, label='Train Accuracy')\n",
    "plt.xlabel('Epoch')\n",
    "plt.ylabel('Value')\n",
    "plt.title('Training Loss and Accuracy')\n",
    "plt.legend()\n",
    "plt.grid(True)\n",
    "plt.show()\n",
    "\n",
    "# Test\n",
    "plt.figure(figsize=(10, 6))\n",
    "plt.plot(test_loss_list, label='Test Loss')\n",
    "plt.plot(test_accuracy_list, label='Test Accuracy')\n",
    "plt.xlabel('Epoch')\n",
    "plt.ylabel('Value')\n",
    "plt.title('Test Loss and Accuracy')\n",
    "plt.legend()\n",
    "plt.grid(True)\n",
    "plt.show()"
   ]
  },
  {
   "cell_type": "markdown",
   "metadata": {},
   "source": [
    "### 2.2"
   ]
  },
  {
   "cell_type": "markdown",
   "metadata": {},
   "source": [
    "Hyperparameter tuning"
   ]
  },
  {
   "cell_type": "code",
   "execution_count": 9,
   "metadata": {},
   "outputs": [],
   "source": [
    "sweep_config = {\n",
    "    'method': 'grid',\n",
    "    'metric': {\n",
    "        'name': 'test_accuracy',\n",
    "        'goal': 'maximize'\n",
    "    },\n",
    "    'parameters': {\n",
    "        'lr': {\n",
    "            'values': [0.001, 0.01]\n",
    "        },\n",
    "        'batch_size': {\n",
    "            'values': [64, 128]\n",
    "        },\n",
    "        'optimizer': {\n",
    "            'values': ['adam', 'sgd']\n",
    "        },\n",
    "        'epochs': {\n",
    "            'values': [10]\n",
    "        },\n",
    "    }\n",
    "}"
   ]
  },
  {
   "cell_type": "code",
   "execution_count": 10,
   "metadata": {},
   "outputs": [
    {
     "name": "stderr",
     "output_type": "stream",
     "text": [
      "Failed to detect the name of this notebook, you can set it manually with the WANDB_NOTEBOOK_NAME environment variable to enable code saving.\n"
     ]
    },
    {
     "name": "stdout",
     "output_type": "stream",
     "text": [
      "Create sweep with ID: y3ylarvq\n",
      "Sweep URL: https://wandb.ai/siya26/digit-recognition/sweeps/y3ylarvq\n"
     ]
    },
    {
     "name": "stderr",
     "output_type": "stream",
     "text": [
      "\u001b[34m\u001b[1mwandb\u001b[0m: Agent Starting Run: m74ft0k0 with config:\n",
      "\u001b[34m\u001b[1mwandb\u001b[0m: \tbatch_size: 64\n",
      "\u001b[34m\u001b[1mwandb\u001b[0m: \tepochs: 10\n",
      "\u001b[34m\u001b[1mwandb\u001b[0m: \tlr: 0.001\n",
      "\u001b[34m\u001b[1mwandb\u001b[0m: \toptimizer: adam\n",
      "Failed to detect the name of this notebook, you can set it manually with the WANDB_NOTEBOOK_NAME environment variable to enable code saving.\n",
      "\u001b[34m\u001b[1mwandb\u001b[0m: Currently logged in as: \u001b[33msiyaputtagunta\u001b[0m (\u001b[33msiya26\u001b[0m). Use \u001b[1m`wandb login --relogin`\u001b[0m to force relogin\n",
      "\u001b[34m\u001b[1mwandb\u001b[0m: \u001b[33mWARNING\u001b[0m Ignored wandb.init() arg project when running a sweep.\n",
      "2024-03-08 20:03:35.573636: I tensorflow/core/util/port.cc:111] oneDNN custom operations are on. You may see slightly different numerical results due to floating-point round-off errors from different computation orders. To turn them off, set the environment variable `TF_ENABLE_ONEDNN_OPTS=0`.\n",
      "2024-03-08 20:03:35.770448: E tensorflow/compiler/xla/stream_executor/cuda/cuda_dnn.cc:9342] Unable to register cuDNN factory: Attempting to register factory for plugin cuDNN when one has already been registered\n",
      "2024-03-08 20:03:35.770487: E tensorflow/compiler/xla/stream_executor/cuda/cuda_fft.cc:609] Unable to register cuFFT factory: Attempting to register factory for plugin cuFFT when one has already been registered\n",
      "2024-03-08 20:03:35.771641: E tensorflow/compiler/xla/stream_executor/cuda/cuda_blas.cc:1518] Unable to register cuBLAS factory: Attempting to register factory for plugin cuBLAS when one has already been registered\n",
      "2024-03-08 20:03:35.883874: I tensorflow/core/platform/cpu_feature_guard.cc:182] This TensorFlow binary is optimized to use available CPU instructions in performance-critical operations.\n",
      "To enable the following instructions: AVX2 AVX512F AVX512_VNNI FMA, in other operations, rebuild TensorFlow with the appropriate compiler flags.\n",
      "2024-03-08 20:03:36.750348: W tensorflow/compiler/tf2tensorrt/utils/py_utils.cc:38] TF-TRT Warning: Could not find TensorRT\n"
     ]
    },
    {
     "data": {
      "text/html": [
       "Tracking run with wandb version 0.16.4"
      ],
      "text/plain": [
       "<IPython.core.display.HTML object>"
      ]
     },
     "metadata": {},
     "output_type": "display_data"
    },
    {
     "data": {
      "text/html": [
       "Run data is saved locally in <code>/home/siya/UGS24/CV/ass2/wandb/run-20240308_200334-m74ft0k0</code>"
      ],
      "text/plain": [
       "<IPython.core.display.HTML object>"
      ]
     },
     "metadata": {},
     "output_type": "display_data"
    },
    {
     "data": {
      "text/html": [
       "Syncing run <strong><a href='https://wandb.ai/siya26/digit-recognition/runs/m74ft0k0' target=\"_blank\">robust-sweep-1</a></strong> to <a href='https://wandb.ai/siya26/digit-recognition' target=\"_blank\">Weights & Biases</a> (<a href='https://wandb.me/run' target=\"_blank\">docs</a>)<br/>Sweep page: <a href='https://wandb.ai/siya26/digit-recognition/sweeps/y3ylarvq' target=\"_blank\">https://wandb.ai/siya26/digit-recognition/sweeps/y3ylarvq</a>"
      ],
      "text/plain": [
       "<IPython.core.display.HTML object>"
      ]
     },
     "metadata": {},
     "output_type": "display_data"
    },
    {
     "data": {
      "text/html": [
       " View project at <a href='https://wandb.ai/siya26/digit-recognition' target=\"_blank\">https://wandb.ai/siya26/digit-recognition</a>"
      ],
      "text/plain": [
       "<IPython.core.display.HTML object>"
      ]
     },
     "metadata": {},
     "output_type": "display_data"
    },
    {
     "data": {
      "text/html": [
       " View sweep at <a href='https://wandb.ai/siya26/digit-recognition/sweeps/y3ylarvq' target=\"_blank\">https://wandb.ai/siya26/digit-recognition/sweeps/y3ylarvq</a>"
      ],
      "text/plain": [
       "<IPython.core.display.HTML object>"
      ]
     },
     "metadata": {},
     "output_type": "display_data"
    },
    {
     "data": {
      "text/html": [
       " View run at <a href='https://wandb.ai/siya26/digit-recognition/runs/m74ft0k0' target=\"_blank\">https://wandb.ai/siya26/digit-recognition/runs/m74ft0k0</a>"
      ],
      "text/plain": [
       "<IPython.core.display.HTML object>"
      ]
     },
     "metadata": {},
     "output_type": "display_data"
    },
    {
     "name": "stdout",
     "output_type": "stream",
     "text": [
      "Epoch 1/10, Train Loss: 0.2552, Train Accuracy: 91.95%, Test Loss: 0.0708, Test Accuracy: 97.59%\n",
      "Epoch 2/10, Train Loss: 0.0691, Train Accuracy: 97.83%, Test Loss: 0.0442, Test Accuracy: 98.42%\n",
      "Epoch 3/10, Train Loss: 0.0507, Train Accuracy: 98.45%, Test Loss: 0.0514, Test Accuracy: 98.44%\n",
      "Epoch 4/10, Train Loss: 0.0394, Train Accuracy: 98.83%, Test Loss: 0.0405, Test Accuracy: 98.67%\n",
      "Epoch 5/10, Train Loss: 0.0327, Train Accuracy: 98.98%, Test Loss: 0.0330, Test Accuracy: 98.88%\n",
      "Epoch 6/10, Train Loss: 0.0266, Train Accuracy: 99.14%, Test Loss: 0.0341, Test Accuracy: 98.83%\n",
      "Epoch 7/10, Train Loss: 0.0250, Train Accuracy: 99.18%, Test Loss: 0.0342, Test Accuracy: 98.91%\n",
      "Epoch 8/10, Train Loss: 0.0206, Train Accuracy: 99.29%, Test Loss: 0.0387, Test Accuracy: 98.82%\n",
      "Epoch 9/10, Train Loss: 0.0180, Train Accuracy: 99.42%, Test Loss: 0.0397, Test Accuracy: 98.80%\n",
      "Epoch 10/10, Train Loss: 0.0152, Train Accuracy: 99.50%, Test Loss: 0.0359, Test Accuracy: 98.85%\n"
     ]
    },
    {
     "data": {
      "text/html": [
       "<style>\n",
       "    table.wandb td:nth-child(1) { padding: 0 10px; text-align: left ; width: auto;} td:nth-child(2) {text-align: left ; width: 100%}\n",
       "    .wandb-row { display: flex; flex-direction: row; flex-wrap: wrap; justify-content: flex-start; width: 100% }\n",
       "    .wandb-col { display: flex; flex-direction: column; flex-basis: 100%; flex: 1; padding: 10px; }\n",
       "    </style>\n",
       "<div class=\"wandb-row\"><div class=\"wandb-col\"><h3>Run history:</h3><br/><table class=\"wandb\"><tr><td>test_accuracy</td><td>▁</td></tr><tr><td>test_loss</td><td>▁</td></tr><tr><td>train_accuracy</td><td>▁</td></tr><tr><td>train_loss</td><td>▁</td></tr></table><br/></div><div class=\"wandb-col\"><h3>Run summary:</h3><br/><table class=\"wandb\"><tr><td>test_accuracy</td><td>98.85</td></tr><tr><td>test_loss</td><td>0.03593</td></tr><tr><td>train_accuracy</td><td>99.495</td></tr><tr><td>train_loss</td><td>0.01521</td></tr></table><br/></div></div>"
      ],
      "text/plain": [
       "<IPython.core.display.HTML object>"
      ]
     },
     "metadata": {},
     "output_type": "display_data"
    },
    {
     "data": {
      "text/html": [
       " View run <strong style=\"color:#cdcd00\">robust-sweep-1</strong> at: <a href='https://wandb.ai/siya26/digit-recognition/runs/m74ft0k0' target=\"_blank\">https://wandb.ai/siya26/digit-recognition/runs/m74ft0k0</a><br/>Synced 5 W&B file(s), 0 media file(s), 0 artifact file(s) and 0 other file(s)"
      ],
      "text/plain": [
       "<IPython.core.display.HTML object>"
      ]
     },
     "metadata": {},
     "output_type": "display_data"
    },
    {
     "data": {
      "text/html": [
       "Find logs at: <code>./wandb/run-20240308_200334-m74ft0k0/logs</code>"
      ],
      "text/plain": [
       "<IPython.core.display.HTML object>"
      ]
     },
     "metadata": {},
     "output_type": "display_data"
    },
    {
     "name": "stderr",
     "output_type": "stream",
     "text": [
      "\u001b[34m\u001b[1mwandb\u001b[0m: Agent Starting Run: ff63zs86 with config:\n",
      "\u001b[34m\u001b[1mwandb\u001b[0m: \tbatch_size: 64\n",
      "\u001b[34m\u001b[1mwandb\u001b[0m: \tepochs: 10\n",
      "\u001b[34m\u001b[1mwandb\u001b[0m: \tlr: 0.001\n",
      "\u001b[34m\u001b[1mwandb\u001b[0m: \toptimizer: sgd\n",
      "Failed to detect the name of this notebook, you can set it manually with the WANDB_NOTEBOOK_NAME environment variable to enable code saving.\n",
      "\u001b[34m\u001b[1mwandb\u001b[0m: \u001b[33mWARNING\u001b[0m Ignored wandb.init() arg project when running a sweep.\n",
      "2024-03-08 20:05:27.966887: I tensorflow/core/util/port.cc:111] oneDNN custom operations are on. You may see slightly different numerical results due to floating-point round-off errors from different computation orders. To turn them off, set the environment variable `TF_ENABLE_ONEDNN_OPTS=0`.\n",
      "2024-03-08 20:05:28.002882: E tensorflow/compiler/xla/stream_executor/cuda/cuda_dnn.cc:9342] Unable to register cuDNN factory: Attempting to register factory for plugin cuDNN when one has already been registered\n",
      "2024-03-08 20:05:28.002919: E tensorflow/compiler/xla/stream_executor/cuda/cuda_fft.cc:609] Unable to register cuFFT factory: Attempting to register factory for plugin cuFFT when one has already been registered\n",
      "2024-03-08 20:05:28.002945: E tensorflow/compiler/xla/stream_executor/cuda/cuda_blas.cc:1518] Unable to register cuBLAS factory: Attempting to register factory for plugin cuBLAS when one has already been registered\n",
      "2024-03-08 20:05:28.009261: I tensorflow/core/platform/cpu_feature_guard.cc:182] This TensorFlow binary is optimized to use available CPU instructions in performance-critical operations.\n",
      "To enable the following instructions: AVX2 AVX512F AVX512_VNNI FMA, in other operations, rebuild TensorFlow with the appropriate compiler flags.\n",
      "2024-03-08 20:05:28.587043: W tensorflow/compiler/tf2tensorrt/utils/py_utils.cc:38] TF-TRT Warning: Could not find TensorRT\n"
     ]
    },
    {
     "data": {
      "text/html": [
       "Tracking run with wandb version 0.16.4"
      ],
      "text/plain": [
       "<IPython.core.display.HTML object>"
      ]
     },
     "metadata": {},
     "output_type": "display_data"
    },
    {
     "data": {
      "text/html": [
       "Run data is saved locally in <code>/home/siya/UGS24/CV/ass2/wandb/run-20240308_200527-ff63zs86</code>"
      ],
      "text/plain": [
       "<IPython.core.display.HTML object>"
      ]
     },
     "metadata": {},
     "output_type": "display_data"
    },
    {
     "data": {
      "text/html": [
       "Syncing run <strong><a href='https://wandb.ai/siya26/digit-recognition/runs/ff63zs86' target=\"_blank\">glad-sweep-2</a></strong> to <a href='https://wandb.ai/siya26/digit-recognition' target=\"_blank\">Weights & Biases</a> (<a href='https://wandb.me/run' target=\"_blank\">docs</a>)<br/>Sweep page: <a href='https://wandb.ai/siya26/digit-recognition/sweeps/y3ylarvq' target=\"_blank\">https://wandb.ai/siya26/digit-recognition/sweeps/y3ylarvq</a>"
      ],
      "text/plain": [
       "<IPython.core.display.HTML object>"
      ]
     },
     "metadata": {},
     "output_type": "display_data"
    },
    {
     "data": {
      "text/html": [
       " View project at <a href='https://wandb.ai/siya26/digit-recognition' target=\"_blank\">https://wandb.ai/siya26/digit-recognition</a>"
      ],
      "text/plain": [
       "<IPython.core.display.HTML object>"
      ]
     },
     "metadata": {},
     "output_type": "display_data"
    },
    {
     "data": {
      "text/html": [
       " View sweep at <a href='https://wandb.ai/siya26/digit-recognition/sweeps/y3ylarvq' target=\"_blank\">https://wandb.ai/siya26/digit-recognition/sweeps/y3ylarvq</a>"
      ],
      "text/plain": [
       "<IPython.core.display.HTML object>"
      ]
     },
     "metadata": {},
     "output_type": "display_data"
    },
    {
     "data": {
      "text/html": [
       " View run at <a href='https://wandb.ai/siya26/digit-recognition/runs/ff63zs86' target=\"_blank\">https://wandb.ai/siya26/digit-recognition/runs/ff63zs86</a>"
      ],
      "text/plain": [
       "<IPython.core.display.HTML object>"
      ]
     },
     "metadata": {},
     "output_type": "display_data"
    },
    {
     "name": "stdout",
     "output_type": "stream",
     "text": [
      "Epoch 1/10, Train Loss: 2.2999, Train Accuracy: 9.95%, Test Loss: 2.2965, Test Accuracy: 10.41%\n",
      "Epoch 2/10, Train Loss: 2.2942, Train Accuracy: 11.34%, Test Loss: 2.2903, Test Accuracy: 14.47%\n",
      "Epoch 3/10, Train Loss: 2.2873, Train Accuracy: 19.69%, Test Loss: 2.2819, Test Accuracy: 26.46%\n",
      "Epoch 4/10, Train Loss: 2.2767, Train Accuracy: 26.24%, Test Loss: 2.2680, Test Accuracy: 27.35%\n",
      "Epoch 5/10, Train Loss: 2.2570, Train Accuracy: 32.35%, Test Loss: 2.2394, Test Accuracy: 36.99%\n",
      "Epoch 6/10, Train Loss: 2.2123, Train Accuracy: 38.65%, Test Loss: 2.1667, Test Accuracy: 42.03%\n",
      "Epoch 7/10, Train Loss: 2.0640, Train Accuracy: 43.81%, Test Loss: 1.8755, Test Accuracy: 50.91%\n",
      "Epoch 8/10, Train Loss: 1.5021, Train Accuracy: 62.48%, Test Loss: 1.0314, Test Accuracy: 77.07%\n",
      "Epoch 9/10, Train Loss: 0.7776, Train Accuracy: 80.93%, Test Loss: 0.5655, Test Accuracy: 84.46%\n",
      "Epoch 10/10, Train Loss: 0.5088, Train Accuracy: 85.89%, Test Loss: 0.4289, Test Accuracy: 87.57%\n"
     ]
    },
    {
     "data": {
      "text/html": [
       "<style>\n",
       "    table.wandb td:nth-child(1) { padding: 0 10px; text-align: left ; width: auto;} td:nth-child(2) {text-align: left ; width: 100%}\n",
       "    .wandb-row { display: flex; flex-direction: row; flex-wrap: wrap; justify-content: flex-start; width: 100% }\n",
       "    .wandb-col { display: flex; flex-direction: column; flex-basis: 100%; flex: 1; padding: 10px; }\n",
       "    </style>\n",
       "<div class=\"wandb-row\"><div class=\"wandb-col\"><h3>Run history:</h3><br/><table class=\"wandb\"><tr><td>test_accuracy</td><td>▁</td></tr><tr><td>test_loss</td><td>▁</td></tr><tr><td>train_accuracy</td><td>▁</td></tr><tr><td>train_loss</td><td>▁</td></tr></table><br/></div><div class=\"wandb-col\"><h3>Run summary:</h3><br/><table class=\"wandb\"><tr><td>test_accuracy</td><td>87.57</td></tr><tr><td>test_loss</td><td>0.42889</td></tr><tr><td>train_accuracy</td><td>85.88833</td></tr><tr><td>train_loss</td><td>0.50881</td></tr></table><br/></div></div>"
      ],
      "text/plain": [
       "<IPython.core.display.HTML object>"
      ]
     },
     "metadata": {},
     "output_type": "display_data"
    },
    {
     "data": {
      "text/html": [
       " View run <strong style=\"color:#cdcd00\">glad-sweep-2</strong> at: <a href='https://wandb.ai/siya26/digit-recognition/runs/ff63zs86' target=\"_blank\">https://wandb.ai/siya26/digit-recognition/runs/ff63zs86</a><br/>Synced 5 W&B file(s), 0 media file(s), 0 artifact file(s) and 0 other file(s)"
      ],
      "text/plain": [
       "<IPython.core.display.HTML object>"
      ]
     },
     "metadata": {},
     "output_type": "display_data"
    },
    {
     "data": {
      "text/html": [
       "Find logs at: <code>./wandb/run-20240308_200527-ff63zs86/logs</code>"
      ],
      "text/plain": [
       "<IPython.core.display.HTML object>"
      ]
     },
     "metadata": {},
     "output_type": "display_data"
    },
    {
     "name": "stderr",
     "output_type": "stream",
     "text": [
      "\u001b[34m\u001b[1mwandb\u001b[0m: Agent Starting Run: jr1hutjm with config:\n",
      "\u001b[34m\u001b[1mwandb\u001b[0m: \tbatch_size: 64\n",
      "\u001b[34m\u001b[1mwandb\u001b[0m: \tepochs: 10\n",
      "\u001b[34m\u001b[1mwandb\u001b[0m: \tlr: 0.01\n",
      "\u001b[34m\u001b[1mwandb\u001b[0m: \toptimizer: adam\n",
      "Failed to detect the name of this notebook, you can set it manually with the WANDB_NOTEBOOK_NAME environment variable to enable code saving.\n",
      "\u001b[34m\u001b[1mwandb\u001b[0m: \u001b[33mWARNING\u001b[0m Ignored wandb.init() arg project when running a sweep.\n",
      "2024-03-08 20:07:11.199253: I tensorflow/core/util/port.cc:111] oneDNN custom operations are on. You may see slightly different numerical results due to floating-point round-off errors from different computation orders. To turn them off, set the environment variable `TF_ENABLE_ONEDNN_OPTS=0`.\n",
      "2024-03-08 20:07:11.233879: E tensorflow/compiler/xla/stream_executor/cuda/cuda_dnn.cc:9342] Unable to register cuDNN factory: Attempting to register factory for plugin cuDNN when one has already been registered\n",
      "2024-03-08 20:07:11.233915: E tensorflow/compiler/xla/stream_executor/cuda/cuda_fft.cc:609] Unable to register cuFFT factory: Attempting to register factory for plugin cuFFT when one has already been registered\n",
      "2024-03-08 20:07:11.233942: E tensorflow/compiler/xla/stream_executor/cuda/cuda_blas.cc:1518] Unable to register cuBLAS factory: Attempting to register factory for plugin cuBLAS when one has already been registered\n",
      "2024-03-08 20:07:11.240278: I tensorflow/core/platform/cpu_feature_guard.cc:182] This TensorFlow binary is optimized to use available CPU instructions in performance-critical operations.\n",
      "To enable the following instructions: AVX2 AVX512F AVX512_VNNI FMA, in other operations, rebuild TensorFlow with the appropriate compiler flags.\n",
      "2024-03-08 20:07:11.820266: W tensorflow/compiler/tf2tensorrt/utils/py_utils.cc:38] TF-TRT Warning: Could not find TensorRT\n"
     ]
    },
    {
     "data": {
      "text/html": [
       "Tracking run with wandb version 0.16.4"
      ],
      "text/plain": [
       "<IPython.core.display.HTML object>"
      ]
     },
     "metadata": {},
     "output_type": "display_data"
    },
    {
     "data": {
      "text/html": [
       "Run data is saved locally in <code>/home/siya/UGS24/CV/ass2/wandb/run-20240308_200710-jr1hutjm</code>"
      ],
      "text/plain": [
       "<IPython.core.display.HTML object>"
      ]
     },
     "metadata": {},
     "output_type": "display_data"
    },
    {
     "data": {
      "text/html": [
       "Syncing run <strong><a href='https://wandb.ai/siya26/digit-recognition/runs/jr1hutjm' target=\"_blank\">lemon-sweep-3</a></strong> to <a href='https://wandb.ai/siya26/digit-recognition' target=\"_blank\">Weights & Biases</a> (<a href='https://wandb.me/run' target=\"_blank\">docs</a>)<br/>Sweep page: <a href='https://wandb.ai/siya26/digit-recognition/sweeps/y3ylarvq' target=\"_blank\">https://wandb.ai/siya26/digit-recognition/sweeps/y3ylarvq</a>"
      ],
      "text/plain": [
       "<IPython.core.display.HTML object>"
      ]
     },
     "metadata": {},
     "output_type": "display_data"
    },
    {
     "data": {
      "text/html": [
       " View project at <a href='https://wandb.ai/siya26/digit-recognition' target=\"_blank\">https://wandb.ai/siya26/digit-recognition</a>"
      ],
      "text/plain": [
       "<IPython.core.display.HTML object>"
      ]
     },
     "metadata": {},
     "output_type": "display_data"
    },
    {
     "data": {
      "text/html": [
       " View sweep at <a href='https://wandb.ai/siya26/digit-recognition/sweeps/y3ylarvq' target=\"_blank\">https://wandb.ai/siya26/digit-recognition/sweeps/y3ylarvq</a>"
      ],
      "text/plain": [
       "<IPython.core.display.HTML object>"
      ]
     },
     "metadata": {},
     "output_type": "display_data"
    },
    {
     "data": {
      "text/html": [
       " View run at <a href='https://wandb.ai/siya26/digit-recognition/runs/jr1hutjm' target=\"_blank\">https://wandb.ai/siya26/digit-recognition/runs/jr1hutjm</a>"
      ],
      "text/plain": [
       "<IPython.core.display.HTML object>"
      ]
     },
     "metadata": {},
     "output_type": "display_data"
    },
    {
     "name": "stdout",
     "output_type": "stream",
     "text": [
      "Epoch 1/10, Train Loss: 0.1762, Train Accuracy: 94.67%, Test Loss: 0.0948, Test Accuracy: 97.31%\n",
      "Epoch 2/10, Train Loss: 0.1007, Train Accuracy: 97.25%, Test Loss: 0.0768, Test Accuracy: 97.92%\n",
      "Epoch 3/10, Train Loss: 0.0867, Train Accuracy: 97.72%, Test Loss: 0.0769, Test Accuracy: 98.08%\n",
      "Epoch 4/10, Train Loss: 0.0815, Train Accuracy: 97.89%, Test Loss: 0.0882, Test Accuracy: 97.81%\n",
      "Epoch 5/10, Train Loss: 0.0811, Train Accuracy: 97.97%, Test Loss: 0.0895, Test Accuracy: 98.21%\n",
      "Epoch 6/10, Train Loss: 0.0862, Train Accuracy: 98.02%, Test Loss: 0.1211, Test Accuracy: 96.83%\n",
      "Epoch 7/10, Train Loss: 0.0768, Train Accuracy: 98.23%, Test Loss: 0.0981, Test Accuracy: 97.71%\n",
      "Epoch 8/10, Train Loss: 0.0782, Train Accuracy: 98.30%, Test Loss: 0.2264, Test Accuracy: 96.38%\n",
      "Epoch 9/10, Train Loss: 0.0825, Train Accuracy: 98.25%, Test Loss: 0.0806, Test Accuracy: 98.21%\n",
      "Epoch 10/10, Train Loss: 0.0744, Train Accuracy: 98.48%, Test Loss: 0.0866, Test Accuracy: 98.01%\n"
     ]
    },
    {
     "data": {
      "text/html": [
       "<style>\n",
       "    table.wandb td:nth-child(1) { padding: 0 10px; text-align: left ; width: auto;} td:nth-child(2) {text-align: left ; width: 100%}\n",
       "    .wandb-row { display: flex; flex-direction: row; flex-wrap: wrap; justify-content: flex-start; width: 100% }\n",
       "    .wandb-col { display: flex; flex-direction: column; flex-basis: 100%; flex: 1; padding: 10px; }\n",
       "    </style>\n",
       "<div class=\"wandb-row\"><div class=\"wandb-col\"><h3>Run history:</h3><br/><table class=\"wandb\"><tr><td>test_accuracy</td><td>▁</td></tr><tr><td>test_loss</td><td>▁</td></tr><tr><td>train_accuracy</td><td>▁</td></tr><tr><td>train_loss</td><td>▁</td></tr></table><br/></div><div class=\"wandb-col\"><h3>Run summary:</h3><br/><table class=\"wandb\"><tr><td>test_accuracy</td><td>98.01</td></tr><tr><td>test_loss</td><td>0.0866</td></tr><tr><td>train_accuracy</td><td>98.47833</td></tr><tr><td>train_loss</td><td>0.07441</td></tr></table><br/></div></div>"
      ],
      "text/plain": [
       "<IPython.core.display.HTML object>"
      ]
     },
     "metadata": {},
     "output_type": "display_data"
    },
    {
     "data": {
      "text/html": [
       " View run <strong style=\"color:#cdcd00\">lemon-sweep-3</strong> at: <a href='https://wandb.ai/siya26/digit-recognition/runs/jr1hutjm' target=\"_blank\">https://wandb.ai/siya26/digit-recognition/runs/jr1hutjm</a><br/>Synced 5 W&B file(s), 0 media file(s), 0 artifact file(s) and 0 other file(s)"
      ],
      "text/plain": [
       "<IPython.core.display.HTML object>"
      ]
     },
     "metadata": {},
     "output_type": "display_data"
    },
    {
     "data": {
      "text/html": [
       "Find logs at: <code>./wandb/run-20240308_200710-jr1hutjm/logs</code>"
      ],
      "text/plain": [
       "<IPython.core.display.HTML object>"
      ]
     },
     "metadata": {},
     "output_type": "display_data"
    },
    {
     "name": "stderr",
     "output_type": "stream",
     "text": [
      "\u001b[34m\u001b[1mwandb\u001b[0m: Agent Starting Run: zcw194vn with config:\n",
      "\u001b[34m\u001b[1mwandb\u001b[0m: \tbatch_size: 64\n",
      "\u001b[34m\u001b[1mwandb\u001b[0m: \tepochs: 10\n",
      "\u001b[34m\u001b[1mwandb\u001b[0m: \tlr: 0.01\n",
      "\u001b[34m\u001b[1mwandb\u001b[0m: \toptimizer: sgd\n",
      "Failed to detect the name of this notebook, you can set it manually with the WANDB_NOTEBOOK_NAME environment variable to enable code saving.\n",
      "\u001b[34m\u001b[1mwandb\u001b[0m: \u001b[33mWARNING\u001b[0m Ignored wandb.init() arg project when running a sweep.\n",
      "2024-03-08 20:08:59.834533: I tensorflow/core/util/port.cc:111] oneDNN custom operations are on. You may see slightly different numerical results due to floating-point round-off errors from different computation orders. To turn them off, set the environment variable `TF_ENABLE_ONEDNN_OPTS=0`.\n",
      "2024-03-08 20:08:59.874752: E tensorflow/compiler/xla/stream_executor/cuda/cuda_dnn.cc:9342] Unable to register cuDNN factory: Attempting to register factory for plugin cuDNN when one has already been registered\n",
      "2024-03-08 20:08:59.874790: E tensorflow/compiler/xla/stream_executor/cuda/cuda_fft.cc:609] Unable to register cuFFT factory: Attempting to register factory for plugin cuFFT when one has already been registered\n",
      "2024-03-08 20:08:59.874837: E tensorflow/compiler/xla/stream_executor/cuda/cuda_blas.cc:1518] Unable to register cuBLAS factory: Attempting to register factory for plugin cuBLAS when one has already been registered\n",
      "2024-03-08 20:08:59.881066: I tensorflow/core/platform/cpu_feature_guard.cc:182] This TensorFlow binary is optimized to use available CPU instructions in performance-critical operations.\n",
      "To enable the following instructions: AVX2 AVX512F AVX512_VNNI FMA, in other operations, rebuild TensorFlow with the appropriate compiler flags.\n",
      "2024-03-08 20:09:00.479908: W tensorflow/compiler/tf2tensorrt/utils/py_utils.cc:38] TF-TRT Warning: Could not find TensorRT\n"
     ]
    },
    {
     "data": {
      "text/html": [
       "Tracking run with wandb version 0.16.4"
      ],
      "text/plain": [
       "<IPython.core.display.HTML object>"
      ]
     },
     "metadata": {},
     "output_type": "display_data"
    },
    {
     "data": {
      "text/html": [
       "Run data is saved locally in <code>/home/siya/UGS24/CV/ass2/wandb/run-20240308_200858-zcw194vn</code>"
      ],
      "text/plain": [
       "<IPython.core.display.HTML object>"
      ]
     },
     "metadata": {},
     "output_type": "display_data"
    },
    {
     "data": {
      "text/html": [
       "Syncing run <strong><a href='https://wandb.ai/siya26/digit-recognition/runs/zcw194vn' target=\"_blank\">devout-sweep-4</a></strong> to <a href='https://wandb.ai/siya26/digit-recognition' target=\"_blank\">Weights & Biases</a> (<a href='https://wandb.me/run' target=\"_blank\">docs</a>)<br/>Sweep page: <a href='https://wandb.ai/siya26/digit-recognition/sweeps/y3ylarvq' target=\"_blank\">https://wandb.ai/siya26/digit-recognition/sweeps/y3ylarvq</a>"
      ],
      "text/plain": [
       "<IPython.core.display.HTML object>"
      ]
     },
     "metadata": {},
     "output_type": "display_data"
    },
    {
     "data": {
      "text/html": [
       " View project at <a href='https://wandb.ai/siya26/digit-recognition' target=\"_blank\">https://wandb.ai/siya26/digit-recognition</a>"
      ],
      "text/plain": [
       "<IPython.core.display.HTML object>"
      ]
     },
     "metadata": {},
     "output_type": "display_data"
    },
    {
     "data": {
      "text/html": [
       " View sweep at <a href='https://wandb.ai/siya26/digit-recognition/sweeps/y3ylarvq' target=\"_blank\">https://wandb.ai/siya26/digit-recognition/sweeps/y3ylarvq</a>"
      ],
      "text/plain": [
       "<IPython.core.display.HTML object>"
      ]
     },
     "metadata": {},
     "output_type": "display_data"
    },
    {
     "data": {
      "text/html": [
       " View run at <a href='https://wandb.ai/siya26/digit-recognition/runs/zcw194vn' target=\"_blank\">https://wandb.ai/siya26/digit-recognition/runs/zcw194vn</a>"
      ],
      "text/plain": [
       "<IPython.core.display.HTML object>"
      ]
     },
     "metadata": {},
     "output_type": "display_data"
    },
    {
     "name": "stdout",
     "output_type": "stream",
     "text": [
      "Epoch 1/10, Train Loss: 1.7665, Train Accuracy: 45.52%, Test Loss: 0.4643, Test Accuracy: 86.66%\n",
      "Epoch 2/10, Train Loss: 0.3016, Train Accuracy: 90.96%, Test Loss: 0.2045, Test Accuracy: 93.56%\n",
      "Epoch 3/10, Train Loss: 0.1862, Train Accuracy: 94.25%, Test Loss: 0.1474, Test Accuracy: 95.38%\n",
      "Epoch 4/10, Train Loss: 0.1390, Train Accuracy: 95.66%, Test Loss: 0.1154, Test Accuracy: 96.26%\n",
      "Epoch 5/10, Train Loss: 0.1130, Train Accuracy: 96.42%, Test Loss: 0.0937, Test Accuracy: 97.12%\n",
      "Epoch 6/10, Train Loss: 0.0958, Train Accuracy: 97.01%, Test Loss: 0.0792, Test Accuracy: 97.48%\n",
      "Epoch 7/10, Train Loss: 0.0840, Train Accuracy: 97.34%, Test Loss: 0.0755, Test Accuracy: 97.46%\n",
      "Epoch 8/10, Train Loss: 0.0753, Train Accuracy: 97.65%, Test Loss: 0.0669, Test Accuracy: 97.86%\n",
      "Epoch 9/10, Train Loss: 0.0684, Train Accuracy: 97.87%, Test Loss: 0.0684, Test Accuracy: 97.79%\n",
      "Epoch 10/10, Train Loss: 0.0631, Train Accuracy: 98.00%, Test Loss: 0.0689, Test Accuracy: 97.67%\n"
     ]
    },
    {
     "data": {
      "text/html": [
       "<style>\n",
       "    table.wandb td:nth-child(1) { padding: 0 10px; text-align: left ; width: auto;} td:nth-child(2) {text-align: left ; width: 100%}\n",
       "    .wandb-row { display: flex; flex-direction: row; flex-wrap: wrap; justify-content: flex-start; width: 100% }\n",
       "    .wandb-col { display: flex; flex-direction: column; flex-basis: 100%; flex: 1; padding: 10px; }\n",
       "    </style>\n",
       "<div class=\"wandb-row\"><div class=\"wandb-col\"><h3>Run history:</h3><br/><table class=\"wandb\"><tr><td>test_accuracy</td><td>▁</td></tr><tr><td>test_loss</td><td>▁</td></tr><tr><td>train_accuracy</td><td>▁</td></tr><tr><td>train_loss</td><td>▁</td></tr></table><br/></div><div class=\"wandb-col\"><h3>Run summary:</h3><br/><table class=\"wandb\"><tr><td>test_accuracy</td><td>97.67</td></tr><tr><td>test_loss</td><td>0.06891</td></tr><tr><td>train_accuracy</td><td>98.0</td></tr><tr><td>train_loss</td><td>0.06315</td></tr></table><br/></div></div>"
      ],
      "text/plain": [
       "<IPython.core.display.HTML object>"
      ]
     },
     "metadata": {},
     "output_type": "display_data"
    },
    {
     "data": {
      "text/html": [
       " View run <strong style=\"color:#cdcd00\">devout-sweep-4</strong> at: <a href='https://wandb.ai/siya26/digit-recognition/runs/zcw194vn' target=\"_blank\">https://wandb.ai/siya26/digit-recognition/runs/zcw194vn</a><br/>Synced 5 W&B file(s), 0 media file(s), 0 artifact file(s) and 0 other file(s)"
      ],
      "text/plain": [
       "<IPython.core.display.HTML object>"
      ]
     },
     "metadata": {},
     "output_type": "display_data"
    },
    {
     "data": {
      "text/html": [
       "Find logs at: <code>./wandb/run-20240308_200858-zcw194vn/logs</code>"
      ],
      "text/plain": [
       "<IPython.core.display.HTML object>"
      ]
     },
     "metadata": {},
     "output_type": "display_data"
    },
    {
     "name": "stderr",
     "output_type": "stream",
     "text": [
      "\u001b[34m\u001b[1mwandb\u001b[0m: Agent Starting Run: ahzt6831 with config:\n",
      "\u001b[34m\u001b[1mwandb\u001b[0m: \tbatch_size: 128\n",
      "\u001b[34m\u001b[1mwandb\u001b[0m: \tepochs: 10\n",
      "\u001b[34m\u001b[1mwandb\u001b[0m: \tlr: 0.001\n",
      "\u001b[34m\u001b[1mwandb\u001b[0m: \toptimizer: adam\n",
      "Failed to detect the name of this notebook, you can set it manually with the WANDB_NOTEBOOK_NAME environment variable to enable code saving.\n",
      "\u001b[34m\u001b[1mwandb\u001b[0m: \u001b[33mWARNING\u001b[0m Ignored wandb.init() arg project when running a sweep.\n",
      "2024-03-08 20:10:50.277364: I tensorflow/core/util/port.cc:111] oneDNN custom operations are on. You may see slightly different numerical results due to floating-point round-off errors from different computation orders. To turn them off, set the environment variable `TF_ENABLE_ONEDNN_OPTS=0`.\n",
      "2024-03-08 20:10:50.311089: E tensorflow/compiler/xla/stream_executor/cuda/cuda_dnn.cc:9342] Unable to register cuDNN factory: Attempting to register factory for plugin cuDNN when one has already been registered\n",
      "2024-03-08 20:10:50.311127: E tensorflow/compiler/xla/stream_executor/cuda/cuda_fft.cc:609] Unable to register cuFFT factory: Attempting to register factory for plugin cuFFT when one has already been registered\n",
      "2024-03-08 20:10:50.311154: E tensorflow/compiler/xla/stream_executor/cuda/cuda_blas.cc:1518] Unable to register cuBLAS factory: Attempting to register factory for plugin cuBLAS when one has already been registered\n",
      "2024-03-08 20:10:50.317123: I tensorflow/core/platform/cpu_feature_guard.cc:182] This TensorFlow binary is optimized to use available CPU instructions in performance-critical operations.\n",
      "To enable the following instructions: AVX2 AVX512F AVX512_VNNI FMA, in other operations, rebuild TensorFlow with the appropriate compiler flags.\n",
      "2024-03-08 20:10:50.881081: W tensorflow/compiler/tf2tensorrt/utils/py_utils.cc:38] TF-TRT Warning: Could not find TensorRT\n"
     ]
    },
    {
     "data": {
      "text/html": [
       "Tracking run with wandb version 0.16.4"
      ],
      "text/plain": [
       "<IPython.core.display.HTML object>"
      ]
     },
     "metadata": {},
     "output_type": "display_data"
    },
    {
     "data": {
      "text/html": [
       "Run data is saved locally in <code>/home/siya/UGS24/CV/ass2/wandb/run-20240308_201049-ahzt6831</code>"
      ],
      "text/plain": [
       "<IPython.core.display.HTML object>"
      ]
     },
     "metadata": {},
     "output_type": "display_data"
    },
    {
     "data": {
      "text/html": [
       "Syncing run <strong><a href='https://wandb.ai/siya26/digit-recognition/runs/ahzt6831' target=\"_blank\">wandering-sweep-5</a></strong> to <a href='https://wandb.ai/siya26/digit-recognition' target=\"_blank\">Weights & Biases</a> (<a href='https://wandb.me/run' target=\"_blank\">docs</a>)<br/>Sweep page: <a href='https://wandb.ai/siya26/digit-recognition/sweeps/y3ylarvq' target=\"_blank\">https://wandb.ai/siya26/digit-recognition/sweeps/y3ylarvq</a>"
      ],
      "text/plain": [
       "<IPython.core.display.HTML object>"
      ]
     },
     "metadata": {},
     "output_type": "display_data"
    },
    {
     "data": {
      "text/html": [
       " View project at <a href='https://wandb.ai/siya26/digit-recognition' target=\"_blank\">https://wandb.ai/siya26/digit-recognition</a>"
      ],
      "text/plain": [
       "<IPython.core.display.HTML object>"
      ]
     },
     "metadata": {},
     "output_type": "display_data"
    },
    {
     "data": {
      "text/html": [
       " View sweep at <a href='https://wandb.ai/siya26/digit-recognition/sweeps/y3ylarvq' target=\"_blank\">https://wandb.ai/siya26/digit-recognition/sweeps/y3ylarvq</a>"
      ],
      "text/plain": [
       "<IPython.core.display.HTML object>"
      ]
     },
     "metadata": {},
     "output_type": "display_data"
    },
    {
     "data": {
      "text/html": [
       " View run at <a href='https://wandb.ai/siya26/digit-recognition/runs/ahzt6831' target=\"_blank\">https://wandb.ai/siya26/digit-recognition/runs/ahzt6831</a>"
      ],
      "text/plain": [
       "<IPython.core.display.HTML object>"
      ]
     },
     "metadata": {},
     "output_type": "display_data"
    },
    {
     "name": "stdout",
     "output_type": "stream",
     "text": [
      "Epoch 1/10, Train Loss: 0.2619, Train Accuracy: 91.98%, Test Loss: 0.0717, Test Accuracy: 97.83%\n",
      "Epoch 2/10, Train Loss: 0.0738, Train Accuracy: 97.66%, Test Loss: 0.0531, Test Accuracy: 98.23%\n",
      "Epoch 3/10, Train Loss: 0.0535, Train Accuracy: 98.31%, Test Loss: 0.0458, Test Accuracy: 98.53%\n",
      "Epoch 4/10, Train Loss: 0.0428, Train Accuracy: 98.64%, Test Loss: 0.0406, Test Accuracy: 98.70%\n",
      "Epoch 5/10, Train Loss: 0.0344, Train Accuracy: 98.92%, Test Loss: 0.0377, Test Accuracy: 98.81%\n",
      "Epoch 6/10, Train Loss: 0.0290, Train Accuracy: 99.03%, Test Loss: 0.0352, Test Accuracy: 98.79%\n",
      "Epoch 7/10, Train Loss: 0.0252, Train Accuracy: 99.15%, Test Loss: 0.0420, Test Accuracy: 98.78%\n",
      "Epoch 8/10, Train Loss: 0.0211, Train Accuracy: 99.33%, Test Loss: 0.0301, Test Accuracy: 99.04%\n",
      "Epoch 9/10, Train Loss: 0.0190, Train Accuracy: 99.40%, Test Loss: 0.0351, Test Accuracy: 98.99%\n",
      "Epoch 10/10, Train Loss: 0.0162, Train Accuracy: 99.50%, Test Loss: 0.0369, Test Accuracy: 98.83%\n"
     ]
    },
    {
     "data": {
      "text/html": [
       "<style>\n",
       "    table.wandb td:nth-child(1) { padding: 0 10px; text-align: left ; width: auto;} td:nth-child(2) {text-align: left ; width: 100%}\n",
       "    .wandb-row { display: flex; flex-direction: row; flex-wrap: wrap; justify-content: flex-start; width: 100% }\n",
       "    .wandb-col { display: flex; flex-direction: column; flex-basis: 100%; flex: 1; padding: 10px; }\n",
       "    </style>\n",
       "<div class=\"wandb-row\"><div class=\"wandb-col\"><h3>Run history:</h3><br/><table class=\"wandb\"><tr><td>test_accuracy</td><td>▁</td></tr><tr><td>test_loss</td><td>▁</td></tr><tr><td>train_accuracy</td><td>▁</td></tr><tr><td>train_loss</td><td>▁</td></tr></table><br/></div><div class=\"wandb-col\"><h3>Run summary:</h3><br/><table class=\"wandb\"><tr><td>test_accuracy</td><td>98.83</td></tr><tr><td>test_loss</td><td>0.03694</td></tr><tr><td>train_accuracy</td><td>99.49667</td></tr><tr><td>train_loss</td><td>0.01624</td></tr></table><br/></div></div>"
      ],
      "text/plain": [
       "<IPython.core.display.HTML object>"
      ]
     },
     "metadata": {},
     "output_type": "display_data"
    },
    {
     "data": {
      "text/html": [
       " View run <strong style=\"color:#cdcd00\">wandering-sweep-5</strong> at: <a href='https://wandb.ai/siya26/digit-recognition/runs/ahzt6831' target=\"_blank\">https://wandb.ai/siya26/digit-recognition/runs/ahzt6831</a><br/>Synced 5 W&B file(s), 0 media file(s), 0 artifact file(s) and 0 other file(s)"
      ],
      "text/plain": [
       "<IPython.core.display.HTML object>"
      ]
     },
     "metadata": {},
     "output_type": "display_data"
    },
    {
     "data": {
      "text/html": [
       "Find logs at: <code>./wandb/run-20240308_201049-ahzt6831/logs</code>"
      ],
      "text/plain": [
       "<IPython.core.display.HTML object>"
      ]
     },
     "metadata": {},
     "output_type": "display_data"
    },
    {
     "name": "stderr",
     "output_type": "stream",
     "text": [
      "\u001b[34m\u001b[1mwandb\u001b[0m: Agent Starting Run: 4oxinghu with config:\n",
      "\u001b[34m\u001b[1mwandb\u001b[0m: \tbatch_size: 128\n",
      "\u001b[34m\u001b[1mwandb\u001b[0m: \tepochs: 10\n",
      "\u001b[34m\u001b[1mwandb\u001b[0m: \tlr: 0.001\n",
      "\u001b[34m\u001b[1mwandb\u001b[0m: \toptimizer: sgd\n",
      "Failed to detect the name of this notebook, you can set it manually with the WANDB_NOTEBOOK_NAME environment variable to enable code saving.\n",
      "\u001b[34m\u001b[1mwandb\u001b[0m: \u001b[33mWARNING\u001b[0m Ignored wandb.init() arg project when running a sweep.\n",
      "2024-03-08 20:12:37.249090: I tensorflow/core/util/port.cc:111] oneDNN custom operations are on. You may see slightly different numerical results due to floating-point round-off errors from different computation orders. To turn them off, set the environment variable `TF_ENABLE_ONEDNN_OPTS=0`.\n",
      "2024-03-08 20:12:37.282255: E tensorflow/compiler/xla/stream_executor/cuda/cuda_dnn.cc:9342] Unable to register cuDNN factory: Attempting to register factory for plugin cuDNN when one has already been registered\n",
      "2024-03-08 20:12:37.282292: E tensorflow/compiler/xla/stream_executor/cuda/cuda_fft.cc:609] Unable to register cuFFT factory: Attempting to register factory for plugin cuFFT when one has already been registered\n",
      "2024-03-08 20:12:37.282322: E tensorflow/compiler/xla/stream_executor/cuda/cuda_blas.cc:1518] Unable to register cuBLAS factory: Attempting to register factory for plugin cuBLAS when one has already been registered\n",
      "2024-03-08 20:12:37.288068: I tensorflow/core/platform/cpu_feature_guard.cc:182] This TensorFlow binary is optimized to use available CPU instructions in performance-critical operations.\n",
      "To enable the following instructions: AVX2 AVX512F AVX512_VNNI FMA, in other operations, rebuild TensorFlow with the appropriate compiler flags.\n",
      "2024-03-08 20:12:37.822595: W tensorflow/compiler/tf2tensorrt/utils/py_utils.cc:38] TF-TRT Warning: Could not find TensorRT\n"
     ]
    },
    {
     "data": {
      "text/html": [
       "Tracking run with wandb version 0.16.4"
      ],
      "text/plain": [
       "<IPython.core.display.HTML object>"
      ]
     },
     "metadata": {},
     "output_type": "display_data"
    },
    {
     "data": {
      "text/html": [
       "Run data is saved locally in <code>/home/siya/UGS24/CV/ass2/wandb/run-20240308_201236-4oxinghu</code>"
      ],
      "text/plain": [
       "<IPython.core.display.HTML object>"
      ]
     },
     "metadata": {},
     "output_type": "display_data"
    },
    {
     "data": {
      "text/html": [
       "Syncing run <strong><a href='https://wandb.ai/siya26/digit-recognition/runs/4oxinghu' target=\"_blank\">wild-sweep-6</a></strong> to <a href='https://wandb.ai/siya26/digit-recognition' target=\"_blank\">Weights & Biases</a> (<a href='https://wandb.me/run' target=\"_blank\">docs</a>)<br/>Sweep page: <a href='https://wandb.ai/siya26/digit-recognition/sweeps/y3ylarvq' target=\"_blank\">https://wandb.ai/siya26/digit-recognition/sweeps/y3ylarvq</a>"
      ],
      "text/plain": [
       "<IPython.core.display.HTML object>"
      ]
     },
     "metadata": {},
     "output_type": "display_data"
    },
    {
     "data": {
      "text/html": [
       " View project at <a href='https://wandb.ai/siya26/digit-recognition' target=\"_blank\">https://wandb.ai/siya26/digit-recognition</a>"
      ],
      "text/plain": [
       "<IPython.core.display.HTML object>"
      ]
     },
     "metadata": {},
     "output_type": "display_data"
    },
    {
     "data": {
      "text/html": [
       " View sweep at <a href='https://wandb.ai/siya26/digit-recognition/sweeps/y3ylarvq' target=\"_blank\">https://wandb.ai/siya26/digit-recognition/sweeps/y3ylarvq</a>"
      ],
      "text/plain": [
       "<IPython.core.display.HTML object>"
      ]
     },
     "metadata": {},
     "output_type": "display_data"
    },
    {
     "data": {
      "text/html": [
       " View run at <a href='https://wandb.ai/siya26/digit-recognition/runs/4oxinghu' target=\"_blank\">https://wandb.ai/siya26/digit-recognition/runs/4oxinghu</a>"
      ],
      "text/plain": [
       "<IPython.core.display.HTML object>"
      ]
     },
     "metadata": {},
     "output_type": "display_data"
    },
    {
     "name": "stdout",
     "output_type": "stream",
     "text": [
      "Epoch 1/10, Train Loss: 2.3008, Train Accuracy: 10.22%, Test Loss: 2.2987, Test Accuracy: 10.10%\n",
      "Epoch 2/10, Train Loss: 2.2976, Train Accuracy: 10.23%, Test Loss: 2.2955, Test Accuracy: 10.14%\n",
      "Epoch 3/10, Train Loss: 2.2942, Train Accuracy: 10.89%, Test Loss: 2.2917, Test Accuracy: 12.57%\n",
      "Epoch 4/10, Train Loss: 2.2898, Train Accuracy: 17.09%, Test Loss: 2.2865, Test Accuracy: 23.73%\n",
      "Epoch 5/10, Train Loss: 2.2833, Train Accuracy: 28.56%, Test Loss: 2.2782, Test Accuracy: 32.16%\n",
      "Epoch 6/10, Train Loss: 2.2727, Train Accuracy: 34.20%, Test Loss: 2.2640, Test Accuracy: 37.15%\n",
      "Epoch 7/10, Train Loss: 2.2527, Train Accuracy: 41.25%, Test Loss: 2.2346, Test Accuracy: 43.46%\n",
      "Epoch 8/10, Train Loss: 2.2036, Train Accuracy: 42.17%, Test Loss: 2.1517, Test Accuracy: 40.71%\n",
      "Epoch 9/10, Train Loss: 2.0374, Train Accuracy: 40.58%, Test Loss: 1.8426, Test Accuracy: 45.61%\n",
      "Epoch 10/10, Train Loss: 1.5185, Train Accuracy: 58.93%, Test Loss: 1.1200, Test Accuracy: 72.24%\n"
     ]
    },
    {
     "data": {
      "text/html": [
       "<style>\n",
       "    table.wandb td:nth-child(1) { padding: 0 10px; text-align: left ; width: auto;} td:nth-child(2) {text-align: left ; width: 100%}\n",
       "    .wandb-row { display: flex; flex-direction: row; flex-wrap: wrap; justify-content: flex-start; width: 100% }\n",
       "    .wandb-col { display: flex; flex-direction: column; flex-basis: 100%; flex: 1; padding: 10px; }\n",
       "    </style>\n",
       "<div class=\"wandb-row\"><div class=\"wandb-col\"><h3>Run history:</h3><br/><table class=\"wandb\"><tr><td>test_accuracy</td><td>▁</td></tr><tr><td>test_loss</td><td>▁</td></tr><tr><td>train_accuracy</td><td>▁</td></tr><tr><td>train_loss</td><td>▁</td></tr></table><br/></div><div class=\"wandb-col\"><h3>Run summary:</h3><br/><table class=\"wandb\"><tr><td>test_accuracy</td><td>72.24</td></tr><tr><td>test_loss</td><td>1.11999</td></tr><tr><td>train_accuracy</td><td>58.92833</td></tr><tr><td>train_loss</td><td>1.51847</td></tr></table><br/></div></div>"
      ],
      "text/plain": [
       "<IPython.core.display.HTML object>"
      ]
     },
     "metadata": {},
     "output_type": "display_data"
    },
    {
     "data": {
      "text/html": [
       " View run <strong style=\"color:#cdcd00\">wild-sweep-6</strong> at: <a href='https://wandb.ai/siya26/digit-recognition/runs/4oxinghu' target=\"_blank\">https://wandb.ai/siya26/digit-recognition/runs/4oxinghu</a><br/>Synced 5 W&B file(s), 0 media file(s), 0 artifact file(s) and 0 other file(s)"
      ],
      "text/plain": [
       "<IPython.core.display.HTML object>"
      ]
     },
     "metadata": {},
     "output_type": "display_data"
    },
    {
     "data": {
      "text/html": [
       "Find logs at: <code>./wandb/run-20240308_201236-4oxinghu/logs</code>"
      ],
      "text/plain": [
       "<IPython.core.display.HTML object>"
      ]
     },
     "metadata": {},
     "output_type": "display_data"
    },
    {
     "name": "stderr",
     "output_type": "stream",
     "text": [
      "\u001b[34m\u001b[1mwandb\u001b[0m: Sweep Agent: Waiting for job.\n",
      "\u001b[34m\u001b[1mwandb\u001b[0m: Job received.\n",
      "\u001b[34m\u001b[1mwandb\u001b[0m: Agent Starting Run: mn5ymkc0 with config:\n",
      "\u001b[34m\u001b[1mwandb\u001b[0m: \tbatch_size: 128\n",
      "\u001b[34m\u001b[1mwandb\u001b[0m: \tepochs: 10\n",
      "\u001b[34m\u001b[1mwandb\u001b[0m: \tlr: 0.01\n",
      "\u001b[34m\u001b[1mwandb\u001b[0m: \toptimizer: adam\n",
      "Failed to detect the name of this notebook, you can set it manually with the WANDB_NOTEBOOK_NAME environment variable to enable code saving.\n",
      "\u001b[34m\u001b[1mwandb\u001b[0m: \u001b[33mWARNING\u001b[0m Ignored wandb.init() arg project when running a sweep.\n",
      "2024-03-08 20:14:29.196344: I tensorflow/core/util/port.cc:111] oneDNN custom operations are on. You may see slightly different numerical results due to floating-point round-off errors from different computation orders. To turn them off, set the environment variable `TF_ENABLE_ONEDNN_OPTS=0`.\n",
      "2024-03-08 20:14:29.230091: E tensorflow/compiler/xla/stream_executor/cuda/cuda_dnn.cc:9342] Unable to register cuDNN factory: Attempting to register factory for plugin cuDNN when one has already been registered\n",
      "2024-03-08 20:14:29.230130: E tensorflow/compiler/xla/stream_executor/cuda/cuda_fft.cc:609] Unable to register cuFFT factory: Attempting to register factory for plugin cuFFT when one has already been registered\n",
      "2024-03-08 20:14:29.230158: E tensorflow/compiler/xla/stream_executor/cuda/cuda_blas.cc:1518] Unable to register cuBLAS factory: Attempting to register factory for plugin cuBLAS when one has already been registered\n",
      "2024-03-08 20:14:29.236201: I tensorflow/core/platform/cpu_feature_guard.cc:182] This TensorFlow binary is optimized to use available CPU instructions in performance-critical operations.\n",
      "To enable the following instructions: AVX2 AVX512F AVX512_VNNI FMA, in other operations, rebuild TensorFlow with the appropriate compiler flags.\n",
      "2024-03-08 20:14:29.801943: W tensorflow/compiler/tf2tensorrt/utils/py_utils.cc:38] TF-TRT Warning: Could not find TensorRT\n"
     ]
    },
    {
     "data": {
      "text/html": [
       "Tracking run with wandb version 0.16.4"
      ],
      "text/plain": [
       "<IPython.core.display.HTML object>"
      ]
     },
     "metadata": {},
     "output_type": "display_data"
    },
    {
     "data": {
      "text/html": [
       "Run data is saved locally in <code>/home/siya/UGS24/CV/ass2/wandb/run-20240308_201428-mn5ymkc0</code>"
      ],
      "text/plain": [
       "<IPython.core.display.HTML object>"
      ]
     },
     "metadata": {},
     "output_type": "display_data"
    },
    {
     "data": {
      "text/html": [
       "Syncing run <strong><a href='https://wandb.ai/siya26/digit-recognition/runs/mn5ymkc0' target=\"_blank\">serene-sweep-7</a></strong> to <a href='https://wandb.ai/siya26/digit-recognition' target=\"_blank\">Weights & Biases</a> (<a href='https://wandb.me/run' target=\"_blank\">docs</a>)<br/>Sweep page: <a href='https://wandb.ai/siya26/digit-recognition/sweeps/y3ylarvq' target=\"_blank\">https://wandb.ai/siya26/digit-recognition/sweeps/y3ylarvq</a>"
      ],
      "text/plain": [
       "<IPython.core.display.HTML object>"
      ]
     },
     "metadata": {},
     "output_type": "display_data"
    },
    {
     "data": {
      "text/html": [
       " View project at <a href='https://wandb.ai/siya26/digit-recognition' target=\"_blank\">https://wandb.ai/siya26/digit-recognition</a>"
      ],
      "text/plain": [
       "<IPython.core.display.HTML object>"
      ]
     },
     "metadata": {},
     "output_type": "display_data"
    },
    {
     "data": {
      "text/html": [
       " View sweep at <a href='https://wandb.ai/siya26/digit-recognition/sweeps/y3ylarvq' target=\"_blank\">https://wandb.ai/siya26/digit-recognition/sweeps/y3ylarvq</a>"
      ],
      "text/plain": [
       "<IPython.core.display.HTML object>"
      ]
     },
     "metadata": {},
     "output_type": "display_data"
    },
    {
     "data": {
      "text/html": [
       " View run at <a href='https://wandb.ai/siya26/digit-recognition/runs/mn5ymkc0' target=\"_blank\">https://wandb.ai/siya26/digit-recognition/runs/mn5ymkc0</a>"
      ],
      "text/plain": [
       "<IPython.core.display.HTML object>"
      ]
     },
     "metadata": {},
     "output_type": "display_data"
    },
    {
     "name": "stdout",
     "output_type": "stream",
     "text": [
      "Epoch 1/10, Train Loss: 0.1761, Train Accuracy: 94.71%, Test Loss: 0.1289, Test Accuracy: 96.73%\n",
      "Epoch 2/10, Train Loss: 0.0966, Train Accuracy: 97.43%, Test Loss: 0.0896, Test Accuracy: 97.75%\n",
      "Epoch 3/10, Train Loss: 0.0924, Train Accuracy: 97.60%, Test Loss: 0.1002, Test Accuracy: 97.42%\n",
      "Epoch 4/10, Train Loss: 0.0832, Train Accuracy: 97.88%, Test Loss: 0.0864, Test Accuracy: 98.25%\n",
      "Epoch 5/10, Train Loss: 0.0800, Train Accuracy: 98.03%, Test Loss: 0.0783, Test Accuracy: 98.14%\n",
      "Epoch 6/10, Train Loss: 0.0831, Train Accuracy: 98.09%, Test Loss: 0.0742, Test Accuracy: 98.24%\n",
      "Epoch 7/10, Train Loss: 0.0780, Train Accuracy: 98.18%, Test Loss: 0.0786, Test Accuracy: 98.10%\n",
      "Epoch 8/10, Train Loss: 0.0728, Train Accuracy: 98.33%, Test Loss: 0.0813, Test Accuracy: 98.20%\n",
      "Epoch 9/10, Train Loss: 0.0789, Train Accuracy: 98.29%, Test Loss: 0.1135, Test Accuracy: 97.67%\n",
      "Epoch 10/10, Train Loss: 0.0823, Train Accuracy: 98.25%, Test Loss: 0.1269, Test Accuracy: 96.93%\n"
     ]
    },
    {
     "data": {
      "text/html": [
       "<style>\n",
       "    table.wandb td:nth-child(1) { padding: 0 10px; text-align: left ; width: auto;} td:nth-child(2) {text-align: left ; width: 100%}\n",
       "    .wandb-row { display: flex; flex-direction: row; flex-wrap: wrap; justify-content: flex-start; width: 100% }\n",
       "    .wandb-col { display: flex; flex-direction: column; flex-basis: 100%; flex: 1; padding: 10px; }\n",
       "    </style>\n",
       "<div class=\"wandb-row\"><div class=\"wandb-col\"><h3>Run history:</h3><br/><table class=\"wandb\"><tr><td>test_accuracy</td><td>▁</td></tr><tr><td>test_loss</td><td>▁</td></tr><tr><td>train_accuracy</td><td>▁</td></tr><tr><td>train_loss</td><td>▁</td></tr></table><br/></div><div class=\"wandb-col\"><h3>Run summary:</h3><br/><table class=\"wandb\"><tr><td>test_accuracy</td><td>96.93</td></tr><tr><td>test_loss</td><td>0.12687</td></tr><tr><td>train_accuracy</td><td>98.245</td></tr><tr><td>train_loss</td><td>0.08229</td></tr></table><br/></div></div>"
      ],
      "text/plain": [
       "<IPython.core.display.HTML object>"
      ]
     },
     "metadata": {},
     "output_type": "display_data"
    },
    {
     "data": {
      "text/html": [
       " View run <strong style=\"color:#cdcd00\">serene-sweep-7</strong> at: <a href='https://wandb.ai/siya26/digit-recognition/runs/mn5ymkc0' target=\"_blank\">https://wandb.ai/siya26/digit-recognition/runs/mn5ymkc0</a><br/>Synced 5 W&B file(s), 0 media file(s), 0 artifact file(s) and 0 other file(s)"
      ],
      "text/plain": [
       "<IPython.core.display.HTML object>"
      ]
     },
     "metadata": {},
     "output_type": "display_data"
    },
    {
     "data": {
      "text/html": [
       "Find logs at: <code>./wandb/run-20240308_201428-mn5ymkc0/logs</code>"
      ],
      "text/plain": [
       "<IPython.core.display.HTML object>"
      ]
     },
     "metadata": {},
     "output_type": "display_data"
    },
    {
     "name": "stderr",
     "output_type": "stream",
     "text": [
      "\u001b[34m\u001b[1mwandb\u001b[0m: Agent Starting Run: gsyn4zp4 with config:\n",
      "\u001b[34m\u001b[1mwandb\u001b[0m: \tbatch_size: 128\n",
      "\u001b[34m\u001b[1mwandb\u001b[0m: \tepochs: 10\n",
      "\u001b[34m\u001b[1mwandb\u001b[0m: \tlr: 0.01\n",
      "\u001b[34m\u001b[1mwandb\u001b[0m: \toptimizer: sgd\n",
      "Failed to detect the name of this notebook, you can set it manually with the WANDB_NOTEBOOK_NAME environment variable to enable code saving.\n",
      "\u001b[34m\u001b[1mwandb\u001b[0m: \u001b[33mWARNING\u001b[0m Ignored wandb.init() arg project when running a sweep.\n",
      "2024-03-08 20:16:17.405831: I tensorflow/core/util/port.cc:111] oneDNN custom operations are on. You may see slightly different numerical results due to floating-point round-off errors from different computation orders. To turn them off, set the environment variable `TF_ENABLE_ONEDNN_OPTS=0`.\n",
      "2024-03-08 20:16:17.441804: E tensorflow/compiler/xla/stream_executor/cuda/cuda_dnn.cc:9342] Unable to register cuDNN factory: Attempting to register factory for plugin cuDNN when one has already been registered\n",
      "2024-03-08 20:16:17.441841: E tensorflow/compiler/xla/stream_executor/cuda/cuda_fft.cc:609] Unable to register cuFFT factory: Attempting to register factory for plugin cuFFT when one has already been registered\n",
      "2024-03-08 20:16:17.441868: E tensorflow/compiler/xla/stream_executor/cuda/cuda_blas.cc:1518] Unable to register cuBLAS factory: Attempting to register factory for plugin cuBLAS when one has already been registered\n",
      "2024-03-08 20:16:17.448199: I tensorflow/core/platform/cpu_feature_guard.cc:182] This TensorFlow binary is optimized to use available CPU instructions in performance-critical operations.\n",
      "To enable the following instructions: AVX2 AVX512F AVX512_VNNI FMA, in other operations, rebuild TensorFlow with the appropriate compiler flags.\n",
      "2024-03-08 20:16:18.026929: W tensorflow/compiler/tf2tensorrt/utils/py_utils.cc:38] TF-TRT Warning: Could not find TensorRT\n"
     ]
    },
    {
     "data": {
      "text/html": [
       "Tracking run with wandb version 0.16.4"
      ],
      "text/plain": [
       "<IPython.core.display.HTML object>"
      ]
     },
     "metadata": {},
     "output_type": "display_data"
    },
    {
     "data": {
      "text/html": [
       "Run data is saved locally in <code>/home/siya/UGS24/CV/ass2/wandb/run-20240308_201616-gsyn4zp4</code>"
      ],
      "text/plain": [
       "<IPython.core.display.HTML object>"
      ]
     },
     "metadata": {},
     "output_type": "display_data"
    },
    {
     "data": {
      "text/html": [
       "Syncing run <strong><a href='https://wandb.ai/siya26/digit-recognition/runs/gsyn4zp4' target=\"_blank\">treasured-sweep-8</a></strong> to <a href='https://wandb.ai/siya26/digit-recognition' target=\"_blank\">Weights & Biases</a> (<a href='https://wandb.me/run' target=\"_blank\">docs</a>)<br/>Sweep page: <a href='https://wandb.ai/siya26/digit-recognition/sweeps/y3ylarvq' target=\"_blank\">https://wandb.ai/siya26/digit-recognition/sweeps/y3ylarvq</a>"
      ],
      "text/plain": [
       "<IPython.core.display.HTML object>"
      ]
     },
     "metadata": {},
     "output_type": "display_data"
    },
    {
     "data": {
      "text/html": [
       " View project at <a href='https://wandb.ai/siya26/digit-recognition' target=\"_blank\">https://wandb.ai/siya26/digit-recognition</a>"
      ],
      "text/plain": [
       "<IPython.core.display.HTML object>"
      ]
     },
     "metadata": {},
     "output_type": "display_data"
    },
    {
     "data": {
      "text/html": [
       " View sweep at <a href='https://wandb.ai/siya26/digit-recognition/sweeps/y3ylarvq' target=\"_blank\">https://wandb.ai/siya26/digit-recognition/sweeps/y3ylarvq</a>"
      ],
      "text/plain": [
       "<IPython.core.display.HTML object>"
      ]
     },
     "metadata": {},
     "output_type": "display_data"
    },
    {
     "data": {
      "text/html": [
       " View run at <a href='https://wandb.ai/siya26/digit-recognition/runs/gsyn4zp4' target=\"_blank\">https://wandb.ai/siya26/digit-recognition/runs/gsyn4zp4</a>"
      ],
      "text/plain": [
       "<IPython.core.display.HTML object>"
      ]
     },
     "metadata": {},
     "output_type": "display_data"
    },
    {
     "name": "stdout",
     "output_type": "stream",
     "text": [
      "Epoch 1/10, Train Loss: 2.0199, Train Accuracy: 34.45%, Test Loss: 0.8466, Test Accuracy: 71.24%\n",
      "Epoch 2/10, Train Loss: 0.3816, Train Accuracy: 88.62%, Test Loss: 0.2114, Test Accuracy: 93.65%\n",
      "Epoch 3/10, Train Loss: 0.1904, Train Accuracy: 94.24%, Test Loss: 0.1364, Test Accuracy: 95.62%\n",
      "Epoch 4/10, Train Loss: 0.1402, Train Accuracy: 95.80%, Test Loss: 0.1045, Test Accuracy: 96.78%\n",
      "Epoch 5/10, Train Loss: 0.1146, Train Accuracy: 96.48%, Test Loss: 0.0849, Test Accuracy: 97.40%\n",
      "Epoch 6/10, Train Loss: 0.0969, Train Accuracy: 97.03%, Test Loss: 0.0765, Test Accuracy: 97.62%\n",
      "Epoch 7/10, Train Loss: 0.0847, Train Accuracy: 97.42%, Test Loss: 0.0743, Test Accuracy: 97.77%\n",
      "Epoch 8/10, Train Loss: 0.0751, Train Accuracy: 97.70%, Test Loss: 0.0653, Test Accuracy: 97.97%\n",
      "Epoch 9/10, Train Loss: 0.0682, Train Accuracy: 97.91%, Test Loss: 0.0581, Test Accuracy: 98.29%\n",
      "Epoch 10/10, Train Loss: 0.0623, Train Accuracy: 98.07%, Test Loss: 0.0519, Test Accuracy: 98.22%\n"
     ]
    },
    {
     "data": {
      "text/html": [
       "<style>\n",
       "    table.wandb td:nth-child(1) { padding: 0 10px; text-align: left ; width: auto;} td:nth-child(2) {text-align: left ; width: 100%}\n",
       "    .wandb-row { display: flex; flex-direction: row; flex-wrap: wrap; justify-content: flex-start; width: 100% }\n",
       "    .wandb-col { display: flex; flex-direction: column; flex-basis: 100%; flex: 1; padding: 10px; }\n",
       "    </style>\n",
       "<div class=\"wandb-row\"><div class=\"wandb-col\"><h3>Run history:</h3><br/><table class=\"wandb\"><tr><td>test_accuracy</td><td>▁</td></tr><tr><td>test_loss</td><td>▁</td></tr><tr><td>train_accuracy</td><td>▁</td></tr><tr><td>train_loss</td><td>▁</td></tr></table><br/></div><div class=\"wandb-col\"><h3>Run summary:</h3><br/><table class=\"wandb\"><tr><td>test_accuracy</td><td>98.22</td></tr><tr><td>test_loss</td><td>0.05193</td></tr><tr><td>train_accuracy</td><td>98.07167</td></tr><tr><td>train_loss</td><td>0.06227</td></tr></table><br/></div></div>"
      ],
      "text/plain": [
       "<IPython.core.display.HTML object>"
      ]
     },
     "metadata": {},
     "output_type": "display_data"
    },
    {
     "data": {
      "text/html": [
       " View run <strong style=\"color:#cdcd00\">treasured-sweep-8</strong> at: <a href='https://wandb.ai/siya26/digit-recognition/runs/gsyn4zp4' target=\"_blank\">https://wandb.ai/siya26/digit-recognition/runs/gsyn4zp4</a><br/>Synced 5 W&B file(s), 0 media file(s), 0 artifact file(s) and 0 other file(s)"
      ],
      "text/plain": [
       "<IPython.core.display.HTML object>"
      ]
     },
     "metadata": {},
     "output_type": "display_data"
    },
    {
     "data": {
      "text/html": [
       "Find logs at: <code>./wandb/run-20240308_201616-gsyn4zp4/logs</code>"
      ],
      "text/plain": [
       "<IPython.core.display.HTML object>"
      ]
     },
     "metadata": {},
     "output_type": "display_data"
    },
    {
     "name": "stderr",
     "output_type": "stream",
     "text": [
      "\u001b[34m\u001b[1mwandb\u001b[0m: Sweep Agent: Waiting for job.\n",
      "\u001b[34m\u001b[1mwandb\u001b[0m: Sweep Agent: Exiting.\n"
     ]
    }
   ],
   "source": [
    "def main():\n",
    "    config_defaults = { 'lr': 0.001, 'batch_size': 64, 'optimizer': 'adam', 'epochs': 10 }\n",
    "\n",
    "    wandb.init(project='digit-recognition', config=config_defaults)\n",
    "    config=wandb.config\n",
    "\n",
    "    model = LeNet()\n",
    "\n",
    "    criterion = nn.CrossEntropyLoss()\n",
    "    if config.optimizer == 'adam':\n",
    "        optimizer = optim.Adam(model.parameters(), lr=config.lr)\n",
    "    else:\n",
    "        optimizer = optim.SGD(model.parameters(), lr=config.lr)\n",
    "\n",
    "    train_loss_list = []\n",
    "    train_accuracy_list = []\n",
    "\n",
    "    test_loss_list = []\n",
    "    test_accuracy_list = []\n",
    "\n",
    "    for epoch in range(config.epochs):\n",
    "        train_loss, train_accuracy = train(model, train_loader, optimizer, criterion)\n",
    "        test_loss, test_accuracy = test(model, test_loader, criterion)\n",
    "\n",
    "        train_loss_list.append(train_loss)\n",
    "        train_accuracy_list.append(train_accuracy)\n",
    "        test_loss_list.append(test_loss)\n",
    "        test_accuracy_list.append(test_accuracy)\n",
    "\n",
    "        print(f'Epoch {epoch+1}/{config.epochs}, Train Loss: {train_loss:.4f}, Train Accuracy: {train_accuracy:.2f}%, Test Loss: {test_loss:.4f}, Test Accuracy: {test_accuracy:.2f}%')\n",
    "\n",
    "    wandb.log({\n",
    "        'train_loss': train_loss_list[-1],\n",
    "        'train_accuracy': train_accuracy_list[-1],\n",
    "        'test_loss': test_loss_list[-1],\n",
    "        'test_accuracy': test_accuracy_list[-1]\n",
    "    })\n",
    "\n",
    "sweep_id = wandb.sweep(sweep_config, project='digit-recognition')\n",
    "wandb.agent(sweep_id, function=main)"
   ]
  },
  {
   "cell_type": "markdown",
   "metadata": {},
   "source": [
    "### Best Hyperparameters:\n",
    "- Learning Rate: 0.001\n",
    "- Batch Size: 128\n",
    "- Optimizer: Adam\n",
    "\n",
    "### Best Accuracy: 98.83%\n",
    "\n",
    "- Important hyperparameters are learning rate and batch size.\n",
    "- In general, adam optimizer gave better results than sgd optimizer and learning rate of 0.01 performed better than 0.001."
   ]
  },
  {
   "cell_type": "markdown",
   "metadata": {},
   "source": [
    "### 2.3"
   ]
  },
  {
   "cell_type": "markdown",
   "metadata": {},
   "source": [
    "**The best performing CNN has an accuracy of 98.83% whereas, SIFT-BoVM-SVM approach has an accuracy of 73.11% which is quite less.**\n",
    "\n",
    "The possible reasons are:-\n",
    "\n",
    "- CNNs automatically learn hierarchical feature representations from raw pixel values, whereas traditional methods like SIFT rely on handcrafted feature engineering.\n",
    "\n",
    "- CNNs preserve spatial information throughout the network, allowing them to capture spatial relationships between pixels in an image. In contrast, traditional methods like BoVW discard spatial information by representing images as histograms of visual words, which may limit their ability to capture spatial context."
   ]
  },
  {
   "cell_type": "markdown",
   "metadata": {},
   "source": [
    "### 2.4"
   ]
  },
  {
   "cell_type": "code",
   "execution_count": 11,
   "metadata": {},
   "outputs": [],
   "source": [
    "class LeNetDouble(nn.Module):\n",
    "    def __init__(self):\n",
    "        super(LeNetDouble, self).__init__()\n",
    "        self.conv1 = nn.Conv2d(1, 6, kernel_size=5)\n",
    "        self.conv2 = nn.Conv2d(6, 16, kernel_size=5)\n",
    "        self.conv3 = nn.Conv2d(16, 32, kernel_size=5, padding=2)  \n",
    "        self.conv4 = nn.Conv2d(32, 64, kernel_size=5, padding=2)\n",
    "        self.fc1 = nn.Linear(64*1*1, 120)\n",
    "        self.fc2 = nn.Linear(120, 84)\n",
    "        self.fc3 = nn.Linear(84, 10)\n",
    "\n",
    "    def forward(self, x):\n",
    "        x = torch.relu(self.conv1(x))\n",
    "        x = torch.max_pool2d(x, kernel_size=2, stride=2)\n",
    "        x = torch.relu(self.conv2(x))\n",
    "        x = torch.max_pool2d(x, kernel_size=2, stride=2)\n",
    "        x = torch.relu(self.conv3(x))\n",
    "        x = torch.max_pool2d(x, kernel_size=2, stride=2)\n",
    "        x = torch.relu(self.conv4(x))\n",
    "        x = torch.max_pool2d(x, kernel_size=2, stride=2)\n",
    "        x = torch.flatten(x, 1)\n",
    "        x = torch.relu(self.fc1(x))\n",
    "        x = torch.relu(self.fc2(x))\n",
    "        x = self.fc3(x)\n",
    "        return x"
   ]
  },
  {
   "cell_type": "code",
   "execution_count": 23,
   "metadata": {},
   "outputs": [
    {
     "data": {
      "text/html": [
       "Changes to your `wandb` environment variables will be ignored because your `wandb` session has already started. For more information on how to modify your settings with `wandb.init()` arguments, please refer to <a href='https://wandb.me/wandb-init' target=\"_blank\">the W&B docs</a>."
      ],
      "text/plain": [
       "<IPython.core.display.HTML object>"
      ]
     },
     "metadata": {},
     "output_type": "display_data"
    },
    {
     "name": "stderr",
     "output_type": "stream",
     "text": [
      "\u001b[34m\u001b[1mwandb\u001b[0m: \u001b[33mWARNING\u001b[0m Ignored wandb.init() arg project when running a sweep.\n"
     ]
    },
    {
     "data": {
      "text/html": [
       "Tracking run with wandb version 0.16.4"
      ],
      "text/plain": [
       "<IPython.core.display.HTML object>"
      ]
     },
     "metadata": {},
     "output_type": "display_data"
    },
    {
     "data": {
      "text/html": [
       "Run data is saved locally in <code>/home/siya/UGS24/CV/ass2/wandb/run-20240308_211337-gsyn4zp4</code>"
      ],
      "text/plain": [
       "<IPython.core.display.HTML object>"
      ]
     },
     "metadata": {},
     "output_type": "display_data"
    },
    {
     "data": {
      "text/html": [
       "Syncing run <strong><a href='https://wandb.ai/siya26/digit-recognition/runs/gsyn4zp4' target=\"_blank\">treasured-sweep-8</a></strong> to <a href='https://wandb.ai/siya26/digit-recognition' target=\"_blank\">Weights & Biases</a> (<a href='https://wandb.me/run' target=\"_blank\">docs</a>)<br/>Sweep page: <a href='https://wandb.ai/siya26/digit-recognition/sweeps/y3ylarvq' target=\"_blank\">https://wandb.ai/siya26/digit-recognition/sweeps/y3ylarvq</a>"
      ],
      "text/plain": [
       "<IPython.core.display.HTML object>"
      ]
     },
     "metadata": {},
     "output_type": "display_data"
    },
    {
     "data": {
      "text/html": [
       " View project at <a href='https://wandb.ai/siya26/digit-recognition' target=\"_blank\">https://wandb.ai/siya26/digit-recognition</a>"
      ],
      "text/plain": [
       "<IPython.core.display.HTML object>"
      ]
     },
     "metadata": {},
     "output_type": "display_data"
    },
    {
     "data": {
      "text/html": [
       " View sweep at <a href='https://wandb.ai/siya26/digit-recognition/sweeps/y3ylarvq' target=\"_blank\">https://wandb.ai/siya26/digit-recognition/sweeps/y3ylarvq</a>"
      ],
      "text/plain": [
       "<IPython.core.display.HTML object>"
      ]
     },
     "metadata": {},
     "output_type": "display_data"
    },
    {
     "data": {
      "text/html": [
       " View run at <a href='https://wandb.ai/siya26/digit-recognition/runs/gsyn4zp4' target=\"_blank\">https://wandb.ai/siya26/digit-recognition/runs/gsyn4zp4</a>"
      ],
      "text/plain": [
       "<IPython.core.display.HTML object>"
      ]
     },
     "metadata": {},
     "output_type": "display_data"
    },
    {
     "name": "stdout",
     "output_type": "stream",
     "text": [
      "Epoch 1/10, Train Loss: 0.3511, Train Accuracy: 88.21%, Test Loss: 0.0836, Test Accuracy: 97.28%\n",
      "Epoch 2/10, Train Loss: 0.0849, Train Accuracy: 97.38%, Test Loss: 0.0559, Test Accuracy: 98.18%\n",
      "Epoch 3/10, Train Loss: 0.0577, Train Accuracy: 98.22%, Test Loss: 0.0449, Test Accuracy: 98.49%\n",
      "Epoch 4/10, Train Loss: 0.0460, Train Accuracy: 98.55%, Test Loss: 0.0479, Test Accuracy: 98.50%\n",
      "Epoch 5/10, Train Loss: 0.0389, Train Accuracy: 98.75%, Test Loss: 0.0480, Test Accuracy: 98.56%\n",
      "Epoch 6/10, Train Loss: 0.0347, Train Accuracy: 98.91%, Test Loss: 0.0329, Test Accuracy: 99.00%\n",
      "Epoch 7/10, Train Loss: 0.0288, Train Accuracy: 99.15%, Test Loss: 0.0355, Test Accuracy: 98.96%\n",
      "Epoch 8/10, Train Loss: 0.0265, Train Accuracy: 99.19%, Test Loss: 0.0403, Test Accuracy: 98.80%\n",
      "Epoch 9/10, Train Loss: 0.0236, Train Accuracy: 99.27%, Test Loss: 0.0513, Test Accuracy: 98.72%\n",
      "Epoch 10/10, Train Loss: 0.0196, Train Accuracy: 99.41%, Test Loss: 0.0383, Test Accuracy: 98.92%\n"
     ]
    },
    {
     "data": {
      "text/html": [
       "<style>\n",
       "    table.wandb td:nth-child(1) { padding: 0 10px; text-align: left ; width: auto;} td:nth-child(2) {text-align: left ; width: 100%}\n",
       "    .wandb-row { display: flex; flex-direction: row; flex-wrap: wrap; justify-content: flex-start; width: 100% }\n",
       "    .wandb-col { display: flex; flex-direction: column; flex-basis: 100%; flex: 1; padding: 10px; }\n",
       "    </style>\n",
       "<div class=\"wandb-row\"><div class=\"wandb-col\"><h3>Run history:</h3><br/><table class=\"wandb\"><tr><td>test_accuracy</td><td>▁▅▆▆▆██▇▇█</td></tr><tr><td>test_loss</td><td>█▄▃▃▃▁▁▂▄▂</td></tr><tr><td>train_accuracy</td><td>▁▇▇▇██████</td></tr><tr><td>train_loss</td><td>█▂▂▂▁▁▁▁▁▁</td></tr></table><br/></div><div class=\"wandb-col\"><h3>Run summary:</h3><br/><table class=\"wandb\"><tr><td>test_accuracy</td><td>98.92</td></tr><tr><td>test_loss</td><td>0.03832</td></tr><tr><td>train_accuracy</td><td>99.405</td></tr><tr><td>train_loss</td><td>0.01957</td></tr></table><br/></div></div>"
      ],
      "text/plain": [
       "<IPython.core.display.HTML object>"
      ]
     },
     "metadata": {},
     "output_type": "display_data"
    },
    {
     "data": {
      "text/html": [
       " View run <strong style=\"color:#cdcd00\">treasured-sweep-8</strong> at: <a href='https://wandb.ai/siya26/digit-recognition/runs/gsyn4zp4' target=\"_blank\">https://wandb.ai/siya26/digit-recognition/runs/gsyn4zp4</a><br/>Synced 5 W&B file(s), 0 media file(s), 0 artifact file(s) and 0 other file(s)"
      ],
      "text/plain": [
       "<IPython.core.display.HTML object>"
      ]
     },
     "metadata": {},
     "output_type": "display_data"
    },
    {
     "data": {
      "text/html": [
       "Find logs at: <code>./wandb/run-20240308_211337-gsyn4zp4/logs</code>"
      ],
      "text/plain": [
       "<IPython.core.display.HTML object>"
      ]
     },
     "metadata": {},
     "output_type": "display_data"
    }
   ],
   "source": [
    "wandb.init(project='digit-recognition')\n",
    "\n",
    "lr = 0.001\n",
    "epochs = 10\n",
    "\n",
    "model = LeNetDouble()\n",
    "criterion = nn.CrossEntropyLoss()\n",
    "optimizer = optim.Adam(model.parameters(), lr=lr)\n",
    "\n",
    "train_loss_list = []\n",
    "train_accuracy_list = []\n",
    "\n",
    "test_loss_list = []\n",
    "test_accuracy_list = []\n",
    "\n",
    "for epoch in range(epochs):\n",
    "    train_loss, train_accuracy = train(model, train_loader, optimizer, criterion)\n",
    "    test_loss, test_accuracy = test(model, test_loader, criterion)\n",
    "\n",
    "    train_loss_list.append(train_loss)\n",
    "    train_accuracy_list.append(train_accuracy)\n",
    "    test_loss_list.append(test_loss)\n",
    "    test_accuracy_list.append(test_accuracy)\n",
    "\n",
    "    wandb.log({\n",
    "        'train_loss': train_loss,\n",
    "        'train_accuracy': train_accuracy,\n",
    "        'test_loss': test_loss,\n",
    "        'test_accuracy': test_accuracy\n",
    "    })\n",
    "\n",
    "    print(f'Epoch {epoch+1}/{epochs}, Train Loss: {train_loss:.4f}, Train Accuracy: {train_accuracy:.2f}%, Test Loss: {test_loss:.4f}, Test Accuracy: {test_accuracy:.2f}%')\n",
    "\n",
    "wandb.finish()"
   ]
  },
  {
   "cell_type": "markdown",
   "metadata": {},
   "source": [
    "- Accuracies of both the models are pretty similar (98-99%).\n",
    "\n",
    "- As the number of convolutional layers is doubled, depth increases due to which model complexity is increased. This may lead to overfitting. In order to prevent this, regularization techniques might be useful."
   ]
  },
  {
   "cell_type": "markdown",
   "metadata": {},
   "source": [
    "Data Loader for different sizes of samples"
   ]
  },
  {
   "cell_type": "code",
   "execution_count": 9,
   "metadata": {},
   "outputs": [],
   "source": [
    "def create_data_loader(train_dataset, subset_size):\n",
    "    if subset_size == len(train_dataset):\n",
    "        return torch.utils.data.DataLoader(train_dataset, batch_size=64, shuffle=True)\n",
    "    \n",
    "    num_classes = 10\n",
    "    class_samples = subset_size // num_classes\n",
    "    indices = []\n",
    "    for i in range(num_classes):\n",
    "        indices.extend(np.where(train_dataset.dataset.targets == i)[0][:class_samples])\n",
    "    sampler = torch.utils.data.SubsetRandomSampler(indices)\n",
    "    return torch.utils.data.DataLoader(train_dataset, batch_size=64, sampler=sampler)"
   ]
  },
  {
   "cell_type": "markdown",
   "metadata": {},
   "source": [
    "### 2.5"
   ]
  },
  {
   "cell_type": "markdown",
   "metadata": {},
   "source": [
    "Test accuracy for different number of training samples"
   ]
  },
  {
   "cell_type": "code",
   "execution_count": 22,
   "metadata": {},
   "outputs": [
    {
     "data": {
      "text/html": [
       "Changes to your `wandb` environment variables will be ignored because your `wandb` session has already started. For more information on how to modify your settings with `wandb.init()` arguments, please refer to <a href='https://wandb.me/wandb-init' target=\"_blank\">the W&B docs</a>."
      ],
      "text/plain": [
       "<IPython.core.display.HTML object>"
      ]
     },
     "metadata": {},
     "output_type": "display_data"
    },
    {
     "name": "stderr",
     "output_type": "stream",
     "text": [
      "\u001b[34m\u001b[1mwandb\u001b[0m: \u001b[33mWARNING\u001b[0m Ignored wandb.init() arg project when running a sweep.\n"
     ]
    },
    {
     "data": {
      "text/html": [
       "Tracking run with wandb version 0.16.4"
      ],
      "text/plain": [
       "<IPython.core.display.HTML object>"
      ]
     },
     "metadata": {},
     "output_type": "display_data"
    },
    {
     "data": {
      "text/html": [
       "Run data is saved locally in <code>/home/siya/UGS24/CV/ass2/wandb/run-20240308_211018-gsyn4zp4</code>"
      ],
      "text/plain": [
       "<IPython.core.display.HTML object>"
      ]
     },
     "metadata": {},
     "output_type": "display_data"
    },
    {
     "data": {
      "text/html": [
       "Syncing run <strong><a href='https://wandb.ai/siya26/digit-recognition/runs/gsyn4zp4' target=\"_blank\">treasured-sweep-8</a></strong> to <a href='https://wandb.ai/siya26/digit-recognition' target=\"_blank\">Weights & Biases</a> (<a href='https://wandb.me/run' target=\"_blank\">docs</a>)<br/>Sweep page: <a href='https://wandb.ai/siya26/digit-recognition/sweeps/y3ylarvq' target=\"_blank\">https://wandb.ai/siya26/digit-recognition/sweeps/y3ylarvq</a>"
      ],
      "text/plain": [
       "<IPython.core.display.HTML object>"
      ]
     },
     "metadata": {},
     "output_type": "display_data"
    },
    {
     "data": {
      "text/html": [
       " View project at <a href='https://wandb.ai/siya26/digit-recognition' target=\"_blank\">https://wandb.ai/siya26/digit-recognition</a>"
      ],
      "text/plain": [
       "<IPython.core.display.HTML object>"
      ]
     },
     "metadata": {},
     "output_type": "display_data"
    },
    {
     "data": {
      "text/html": [
       " View sweep at <a href='https://wandb.ai/siya26/digit-recognition/sweeps/y3ylarvq' target=\"_blank\">https://wandb.ai/siya26/digit-recognition/sweeps/y3ylarvq</a>"
      ],
      "text/plain": [
       "<IPython.core.display.HTML object>"
      ]
     },
     "metadata": {},
     "output_type": "display_data"
    },
    {
     "data": {
      "text/html": [
       " View run at <a href='https://wandb.ai/siya26/digit-recognition/runs/gsyn4zp4' target=\"_blank\">https://wandb.ai/siya26/digit-recognition/runs/gsyn4zp4</a>"
      ],
      "text/plain": [
       "<IPython.core.display.HTML object>"
      ]
     },
     "metadata": {},
     "output_type": "display_data"
    },
    {
     "name": "stdout",
     "output_type": "stream",
     "text": [
      "Subset size: 600, Test Accuracy: 88.5600%\n",
      "Subset size: 1800, Test Accuracy: 93.1400%\n",
      "Subset size: 6000, Test Accuracy: 97.1600%\n",
      "Subset size: 18000, Test Accuracy: 97.9000%\n",
      "Subset size: 60000, Test Accuracy: 98.8500%\n"
     ]
    },
    {
     "data": {
      "text/html": [
       "<style>\n",
       "    table.wandb td:nth-child(1) { padding: 0 10px; text-align: left ; width: auto;} td:nth-child(2) {text-align: left ; width: 100%}\n",
       "    .wandb-row { display: flex; flex-direction: row; flex-wrap: wrap; justify-content: flex-start; width: 100% }\n",
       "    .wandb-col { display: flex; flex-direction: column; flex-basis: 100%; flex: 1; padding: 10px; }\n",
       "    </style>\n",
       "<div class=\"wandb-row\"><div class=\"wandb-col\"><h3>Run history:</h3><br/><table class=\"wandb\"><tr><td>test_accuracy</td><td>▁▄▇▇█</td></tr><tr><td>test_loss</td><td>█▅▂▂▁</td></tr><tr><td>train_accuracy</td><td>▁▄▅▆▇▇▇▇▃▆▇▇▇▇██▅▇██████▇███████▇███████</td></tr><tr><td>train_loss</td><td>██▇▅▃▂▂▂▇▄▃▂▂▂▂▁▄▂▂▁▁▁▁▁▃▁▁▁▁▁▁▁▂▁▁▁▁▁▁▁</td></tr></table><br/></div><div class=\"wandb-col\"><h3>Run summary:</h3><br/><table class=\"wandb\"><tr><td>test_accuracy</td><td>98.85</td></tr><tr><td>test_loss</td><td>0.03979</td></tr><tr><td>train_accuracy</td><td>99.47667</td></tr><tr><td>train_loss</td><td>0.01592</td></tr></table><br/></div></div>"
      ],
      "text/plain": [
       "<IPython.core.display.HTML object>"
      ]
     },
     "metadata": {},
     "output_type": "display_data"
    },
    {
     "data": {
      "text/html": [
       " View run <strong style=\"color:#cdcd00\">treasured-sweep-8</strong> at: <a href='https://wandb.ai/siya26/digit-recognition/runs/gsyn4zp4' target=\"_blank\">https://wandb.ai/siya26/digit-recognition/runs/gsyn4zp4</a><br/>Synced 5 W&B file(s), 0 media file(s), 0 artifact file(s) and 0 other file(s)"
      ],
      "text/plain": [
       "<IPython.core.display.HTML object>"
      ]
     },
     "metadata": {},
     "output_type": "display_data"
    },
    {
     "data": {
      "text/html": [
       "Find logs at: <code>./wandb/run-20240308_211018-gsyn4zp4/logs</code>"
      ],
      "text/plain": [
       "<IPython.core.display.HTML object>"
      ]
     },
     "metadata": {},
     "output_type": "display_data"
    }
   ],
   "source": [
    "wandb.init(project='digit-recognition', config={'epochs': 10, 'learning_rate': 0.001})\n",
    "\n",
    "subset_sizes = [600, 1800, 6000, 18000, 60000]\n",
    "acc_list = []\n",
    "\n",
    "for size in subset_sizes:\n",
    "    train_loader = create_data_loader(train_dataset, size)\n",
    "    test_loader = torch.utils.data.DataLoader(test_dataset, batch_size=64, shuffle=False)\n",
    "    \n",
    "    model = LeNet()\n",
    "    criterion = nn.CrossEntropyLoss()\n",
    "    optimizer = optim.Adam(model.parameters(), lr=0.001)\n",
    "    \n",
    "    for epoch in range(epochs):\n",
    "        train_loss, train_accuracy = train(model, train_loader, optimizer, criterion)\n",
    "        wandb.log({'train_loss': train_loss, 'train_accuracy': train_accuracy})\n",
    "    \n",
    "    test_loss, accuracy = test(model, test_loader, criterion)\n",
    "    print(f'Subset size: {size}, Test Accuracy: {accuracy:.4f}%')\n",
    "    \n",
    "    wandb.log({'test_loss': test_loss, 'test_accuracy': accuracy})\n",
    "    acc_list.append(accuracy)\n",
    "\n",
    "wandb.finish()"
   ]
  },
  {
   "cell_type": "markdown",
   "metadata": {},
   "source": [
    "Plotting the results"
   ]
  },
  {
   "cell_type": "code",
   "execution_count": 17,
   "metadata": {},
   "outputs": [
    {
     "data": {
      "image/png": "[encoded data removed]",
      "text/plain": [
       "<Figure size 640x480 with 1 Axes>"
      ]
     },
     "metadata": {},
     "output_type": "display_data"
    }
   ],
   "source": [
    "plt.plot(subset_sizes, acc_list, marker='o')\n",
    "plt.xlabel('Subset Size')\n",
    "plt.ylabel('Accuracy')\n",
    "plt.title('Accuracy vs. Subset Size')\n",
    "plt.grid(True)\n",
    "plt.show()"
   ]
  },
  {
   "cell_type": "markdown",
   "metadata": {},
   "source": [
    "- As the number of training samples increases, classification accuracy increases. \n",
    "\n",
    "- There is a steep rise in accuracy for lower values of subset size.\n",
    "\n",
    "- We can observe that having a larger and more varied set of data has a favourable effect on model performance, improving accuracy and generalisation."
   ]
  },
  {
   "cell_type": "markdown",
   "metadata": {},
   "source": [
    "### 2.6"
   ]
  },
  {
   "cell_type": "markdown",
   "metadata": {},
   "source": [
    "Vision Transformer"
   ]
  },
  {
   "cell_type": "code",
   "execution_count": 18,
   "metadata": {},
   "outputs": [],
   "source": [
    "class VisionTransformer(nn.Module):\n",
    "    def __init__(self, input_height, input_width, hidden_dim, num_classes, num_heads=2):\n",
    "        super(VisionTransformer, self).__init__()\n",
    "        self.input_dim = input_height * input_width\n",
    "        self.embedding = nn.Linear(self.input_dim, hidden_dim)\n",
    "        encoder_layer = nn.TransformerEncoderLayer(d_model=hidden_dim, nhead=num_heads)\n",
    "        self.transformer_encoder = nn.TransformerEncoder(encoder_layer, num_layers=2)\n",
    "        self.fc = nn.Linear(hidden_dim, num_classes)\n",
    "\n",
    "    def forward(self, x):\n",
    "        x = x.view(-1, self.input_dim)\n",
    "        x = self.embedding(x)\n",
    "        x = x.unsqueeze(1)\n",
    "        x = self.transformer_encoder(x)\n",
    "        x = x.squeeze(1)\n",
    "        x = self.fc(x)\n",
    "        \n",
    "        return x"
   ]
  },
  {
   "cell_type": "markdown",
   "metadata": {},
   "source": [
    "Accuracy of ViT for different sizes of subset"
   ]
  },
  {
   "cell_type": "code",
   "execution_count": 20,
   "metadata": {},
   "outputs": [
    {
     "name": "stdout",
     "output_type": "stream",
     "text": [
      "Subset size: 6000, Test Accuracy: 92.5000%\n",
      "Subset size: 60000, Test Accuracy: 96.3800%\n"
     ]
    }
   ],
   "source": [
    "subset_sizes = [6000, 60000]\n",
    "\n",
    "for size in subset_sizes:\n",
    "    train_loader = create_data_loader(train_dataset, size)\n",
    "    \n",
    "    model = VisionTransformer(input_height=28, input_width=28, hidden_dim=256, num_classes=10, num_heads=2)\n",
    "    criterion = nn.CrossEntropyLoss()\n",
    "    optimizer = optim.Adam(model.parameters(), lr=0.001)\n",
    "    \n",
    "    epochs = 10\n",
    "    for epoch in range(epochs):\n",
    "        model.train()\n",
    "        for inputs, labels in train_loader:\n",
    "            optimizer.zero_grad()\n",
    "            inputs = inputs.view(inputs.size(0), -1)  \n",
    "            inputs = inputs.unsqueeze(1)  \n",
    "            outputs = model(inputs)  \n",
    "\n",
    "            loss = criterion(outputs, labels)\n",
    "            loss.backward()\n",
    "            optimizer.step()\n",
    "    \n",
    "    model.eval()\n",
    "    correct = 0\n",
    "    total = 0\n",
    "\n",
    "    with torch.no_grad():\n",
    "        for inputs, labels in test_loader:\n",
    "            inputs = inputs.view(inputs.size(0), -1)  \n",
    "            inputs = inputs.unsqueeze(1)  \n",
    "            outputs = model(inputs)  \n",
    "\n",
    "            _, predicted = torch.max(outputs, 1)\n",
    "            total += labels.size(0)\n",
    "            correct += (predicted == labels).sum().item()\n",
    "            \n",
    "    accuracy = 100. * correct / total\n",
    "    print(f'Subset size: {size}, Test Accuracy: {accuracy:.4f}%')"
   ]
  },
  {
   "cell_type": "markdown",
   "metadata": {},
   "source": [
    "- For 6000 images, accuracy of CNN is 97.16% while that of ViT is 92.5%. \n",
    "- For 60000 images, accuracy of CNN is 98.85% while that of ViT is 96.38%. Here, the gap between their classification accuracies has reduced.\n",
    "- In both the cases, CNN performed better than Transformer. "
   ]
  },
  {
   "cell_type": "code",
   "execution_count": 10,
   "metadata": {},
   "outputs": [],
   "source": [
    "class ViT(nn.Module):\n",
    "    def __init__(self, input_dim, hidden_dim, output_dim, num_layers, num_heads):\n",
    "        super(ViT, self).__init__()\n",
    "        self.kernel_size = 7\n",
    "        self.stride = 2\n",
    "        self.padding = 3\n",
    "\n",
    "        self.shape = (input_dim - self.kernel_size + 2 * self.padding) // self.stride + 1 # 14*14\n",
    "\n",
    "        self.patch_embedding = nn.Conv2d(1, hidden_dim, kernel_size=self.kernel_size, stride=self.stride, padding=self.padding)\n",
    "        self.pos_embedding = nn.Parameter(torch.randn(1, hidden_dim, self.shape, self.shape))\n",
    "        encoder_layer = nn.TransformerEncoderLayer(hidden_dim, num_heads, hidden_dim * 4, dropout=0.1)\n",
    "        self.transformer_encoder = nn.TransformerEncoder(encoder_layer, num_layers)\n",
    "        self.fc = nn.Linear(hidden_dim * self.shape * self.shape, output_dim)\n",
    "\n",
    "    def forward(self, x):\n",
    "        x = self.patch_embedding(x)     # [batch_size, hidden_dim, 14, 14]\n",
    "        x = x + self.pos_embedding\n",
    "        x = x.view(x.size(0), x.size(1), -1)\n",
    "        x = x.permute(2, 0, 1)      # [14*14, batch_size, hidden_dim]\n",
    "        x = self.transformer_encoder(x)     # [14*14, batch_size, hidden_dim]\n",
    "        x = x.permute(1, 2, 0)      \n",
    "        x = x.reshape(x.size(0), -1)      # [batch_size, hidden_dim*14*14]\n",
    "        x = self.fc(x)\n",
    "        return x"
   ]
  },
  {
   "cell_type": "code",
   "execution_count": 13,
   "metadata": {},
   "outputs": [
    {
     "name": "stdout",
     "output_type": "stream",
     "text": [
      "Epoch 1/10, Train Loss: 15.6865, Train Accuracy: 10.62%\n",
      "Epoch 2/10, Train Loss: 0.7883, Train Accuracy: 77.65%\n",
      "Epoch 3/10, Train Loss: 0.3790, Train Accuracy: 88.55%\n",
      "Epoch 4/10, Train Loss: 0.2441, Train Accuracy: 92.47%\n",
      "Epoch 5/10, Train Loss: 0.1574, Train Accuracy: 94.97%\n",
      "Epoch 6/10, Train Loss: 0.1234, Train Accuracy: 96.27%\n",
      "Epoch 7/10, Train Loss: 0.0966, Train Accuracy: 96.83%\n",
      "Epoch 8/10, Train Loss: 0.1039, Train Accuracy: 96.85%\n",
      "Epoch 9/10, Train Loss: 0.0920, Train Accuracy: 97.15%\n",
      "Epoch 10/10, Train Loss: 0.0759, Train Accuracy: 97.67%\n",
      "Subset size: 6000, Test Accuracy: 94.6100%\n",
      "\n",
      "Epoch 1/10, Train Loss: 1.9797, Train Accuracy: 77.10%\n",
      "Epoch 2/10, Train Loss: 0.2145, Train Accuracy: 94.25%\n",
      "Epoch 3/10, Train Loss: 0.1476, Train Accuracy: 95.89%\n",
      "Epoch 4/10, Train Loss: 0.1362, Train Accuracy: 95.97%\n",
      "Epoch 5/10, Train Loss: 0.1405, Train Accuracy: 95.80%\n",
      "Epoch 6/10, Train Loss: 0.1271, Train Accuracy: 96.16%\n",
      "Epoch 7/10, Train Loss: 0.1095, Train Accuracy: 96.61%\n",
      "Epoch 8/10, Train Loss: 0.1091, Train Accuracy: 96.61%\n",
      "Epoch 9/10, Train Loss: 0.1044, Train Accuracy: 96.78%\n",
      "Epoch 10/10, Train Loss: 0.1009, Train Accuracy: 96.81%\n",
      "Subset size: 60000, Test Accuracy: 97.5200%\n",
      "\n"
     ]
    }
   ],
   "source": [
    "subset_sizes = [6000, 60000]\n",
    "\n",
    "for size in subset_sizes:\n",
    "    train_loader = create_data_loader(train_dataset, size)\n",
    "    \n",
    "    model = ViT(input_dim=28, hidden_dim=256, output_dim=10, num_layers=2, num_heads=8)\n",
    "    criterion = nn.CrossEntropyLoss()\n",
    "    optimizer = optim.Adam(model.parameters(), lr=0.001)\n",
    "    \n",
    "    epochs = 10\n",
    "    for epoch in range(epochs):\n",
    "        train_loss, train_accuracy = train(model, train_loader, optimizer, criterion)\n",
    "        print(f'Epoch {epoch+1}/{epochs}, Train Loss: {train_loss:.4f}, Train Accuracy: {train_accuracy:.2f}%')\n",
    "\n",
    "    test_loss, accuracy = test(model, test_loader, criterion)\n",
    "    print(f'Subset size: {size}, Test Accuracy: {accuracy:.4f}%')\n",
    "    print()"
   ]
  }
 ],
 "metadata": {
  "kernelspec": {
   "display_name": "Python 3",
   "language": "python",
   "name": "python3"
  },
  "language_info": {
   "codemirror_mode": {
    "name": "ipython",
    "version": 3
   },
   "file_extension": ".py",
   "mimetype": "text/x-python",
   "name": "python",
   "nbconvert_exporter": "python",
   "pygments_lexer": "ipython3",
   "version": "3.10.12"
  }
 },
 "nbformat": 4,
 "nbformat_minor": 2
}
